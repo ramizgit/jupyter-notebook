{
 "cells": [
  {
   "cell_type": "code",
   "execution_count": 1,
   "id": "b04d47d8",
   "metadata": {
    "_cell_guid": "b1076dfc-b9ad-4769-8c92-a6c4dae69d19",
    "_uuid": "8f2839f25d086af736a60e9eeb907d3b93b6e0e5",
    "execution": {
     "iopub.execute_input": "2023-06-01T02:02:20.587680Z",
     "iopub.status.busy": "2023-06-01T02:02:20.587203Z",
     "iopub.status.idle": "2023-06-01T02:02:20.642600Z",
     "shell.execute_reply": "2023-06-01T02:02:20.641404Z"
    },
    "papermill": {
     "duration": 0.073972,
     "end_time": "2023-06-01T02:02:20.645647",
     "exception": false,
     "start_time": "2023-06-01T02:02:20.571675",
     "status": "completed"
    },
    "tags": []
   },
   "outputs": [
    {
     "name": "stdout",
     "output_type": "stream",
     "text": [
      "/kaggle/input/diabetes-prediction-dataset/diabetes_prediction_dataset.csv\n"
     ]
    }
   ],
   "source": [
    "# This Python 3 environment comes with many helpful analytics libraries installed\n",
    "# It is defined by the kaggle/python Docker image: https://github.com/kaggle/docker-python\n",
    "# For example, here's several helpful packages to load\n",
    "\n",
    "import numpy as np # linear algebra\n",
    "import pandas as pd # data processing, CSV file I/O (e.g. pd.read_csv)\n",
    "\n",
    "# Input data files are available in the read-only \"../input/\" directory\n",
    "# For example, running this (by clicking run or pressing Shift+Enter) will list all files under the input directory\n",
    "\n",
    "import os\n",
    "for dirname, _, filenames in os.walk('/kaggle/input'):\n",
    "    for filename in filenames:\n",
    "        print(os.path.join(dirname, filename))\n",
    "\n",
    "# You can write up to 20GB to the current directory (/kaggle/working/) that gets preserved as output when you create a version using \"Save & Run All\" \n",
    "# You can also write temporary files to /kaggle/temp/, but they won't be saved outside of the current session"
   ]
  },
  {
   "cell_type": "code",
   "execution_count": 2,
   "id": "fc252d55",
   "metadata": {
    "execution": {
     "iopub.execute_input": "2023-06-01T02:02:20.674422Z",
     "iopub.status.busy": "2023-06-01T02:02:20.673712Z",
     "iopub.status.idle": "2023-06-01T02:02:20.876975Z",
     "shell.execute_reply": "2023-06-01T02:02:20.875406Z"
    },
    "papermill": {
     "duration": 0.220854,
     "end_time": "2023-06-01T02:02:20.879973",
     "exception": false,
     "start_time": "2023-06-01T02:02:20.659119",
     "status": "completed"
    },
    "tags": []
   },
   "outputs": [],
   "source": [
    "df=pd.read_csv(\"/kaggle/input/diabetes-prediction-dataset/diabetes_prediction_dataset.csv\")"
   ]
  },
  {
   "cell_type": "code",
   "execution_count": 3,
   "id": "f3578f84",
   "metadata": {
    "execution": {
     "iopub.execute_input": "2023-06-01T02:02:20.910179Z",
     "iopub.status.busy": "2023-06-01T02:02:20.909712Z",
     "iopub.status.idle": "2023-06-01T02:02:21.013369Z",
     "shell.execute_reply": "2023-06-01T02:02:21.011752Z"
    },
    "papermill": {
     "duration": 0.121976,
     "end_time": "2023-06-01T02:02:21.016950",
     "exception": false,
     "start_time": "2023-06-01T02:02:20.894974",
     "status": "completed"
    },
    "tags": []
   },
   "outputs": [
    {
     "name": "stdout",
     "output_type": "stream",
     "text": [
      "<class 'pandas.core.frame.DataFrame'>\n",
      "RangeIndex: 100000 entries, 0 to 99999\n",
      "Data columns (total 9 columns):\n",
      " #   Column               Non-Null Count   Dtype  \n",
      "---  ------               --------------   -----  \n",
      " 0   gender               100000 non-null  object \n",
      " 1   age                  100000 non-null  float64\n",
      " 2   hypertension         100000 non-null  int64  \n",
      " 3   heart_disease        100000 non-null  int64  \n",
      " 4   smoking_history      100000 non-null  object \n",
      " 5   bmi                  100000 non-null  float64\n",
      " 6   HbA1c_level          100000 non-null  float64\n",
      " 7   blood_glucose_level  100000 non-null  int64  \n",
      " 8   diabetes             100000 non-null  int64  \n",
      "dtypes: float64(3), int64(4), object(2)\n",
      "memory usage: 6.9+ MB\n"
     ]
    }
   ],
   "source": [
    "df.info()"
   ]
  },
  {
   "cell_type": "code",
   "execution_count": 4,
   "id": "fbaa2fff",
   "metadata": {
    "execution": {
     "iopub.execute_input": "2023-06-01T02:02:21.046027Z",
     "iopub.status.busy": "2023-06-01T02:02:21.045600Z",
     "iopub.status.idle": "2023-06-01T02:02:21.091827Z",
     "shell.execute_reply": "2023-06-01T02:02:21.090514Z"
    },
    "papermill": {
     "duration": 0.063638,
     "end_time": "2023-06-01T02:02:21.094396",
     "exception": false,
     "start_time": "2023-06-01T02:02:21.030758",
     "status": "completed"
    },
    "tags": []
   },
   "outputs": [
    {
     "data": {
      "text/html": [
       "<div>\n",
       "<style scoped>\n",
       "    .dataframe tbody tr th:only-of-type {\n",
       "        vertical-align: middle;\n",
       "    }\n",
       "\n",
       "    .dataframe tbody tr th {\n",
       "        vertical-align: top;\n",
       "    }\n",
       "\n",
       "    .dataframe thead th {\n",
       "        text-align: right;\n",
       "    }\n",
       "</style>\n",
       "<table border=\"1\" class=\"dataframe\">\n",
       "  <thead>\n",
       "    <tr style=\"text-align: right;\">\n",
       "      <th></th>\n",
       "      <th>gender</th>\n",
       "      <th>age</th>\n",
       "      <th>hypertension</th>\n",
       "      <th>heart_disease</th>\n",
       "      <th>smoking_history</th>\n",
       "      <th>bmi</th>\n",
       "      <th>HbA1c_level</th>\n",
       "      <th>blood_glucose_level</th>\n",
       "      <th>diabetes</th>\n",
       "    </tr>\n",
       "  </thead>\n",
       "  <tbody>\n",
       "    <tr>\n",
       "      <th>6</th>\n",
       "      <td>Female</td>\n",
       "      <td>44.0</td>\n",
       "      <td>0</td>\n",
       "      <td>0</td>\n",
       "      <td>never</td>\n",
       "      <td>19.31</td>\n",
       "      <td>6.5</td>\n",
       "      <td>200</td>\n",
       "      <td>1</td>\n",
       "    </tr>\n",
       "    <tr>\n",
       "      <th>26</th>\n",
       "      <td>Male</td>\n",
       "      <td>67.0</td>\n",
       "      <td>0</td>\n",
       "      <td>1</td>\n",
       "      <td>not current</td>\n",
       "      <td>27.32</td>\n",
       "      <td>6.5</td>\n",
       "      <td>200</td>\n",
       "      <td>1</td>\n",
       "    </tr>\n",
       "    <tr>\n",
       "      <th>38</th>\n",
       "      <td>Male</td>\n",
       "      <td>50.0</td>\n",
       "      <td>1</td>\n",
       "      <td>0</td>\n",
       "      <td>current</td>\n",
       "      <td>27.32</td>\n",
       "      <td>5.7</td>\n",
       "      <td>260</td>\n",
       "      <td>1</td>\n",
       "    </tr>\n",
       "    <tr>\n",
       "      <th>40</th>\n",
       "      <td>Male</td>\n",
       "      <td>73.0</td>\n",
       "      <td>0</td>\n",
       "      <td>0</td>\n",
       "      <td>former</td>\n",
       "      <td>25.91</td>\n",
       "      <td>9.0</td>\n",
       "      <td>160</td>\n",
       "      <td>1</td>\n",
       "    </tr>\n",
       "    <tr>\n",
       "      <th>53</th>\n",
       "      <td>Female</td>\n",
       "      <td>53.0</td>\n",
       "      <td>0</td>\n",
       "      <td>0</td>\n",
       "      <td>former</td>\n",
       "      <td>27.32</td>\n",
       "      <td>7.0</td>\n",
       "      <td>159</td>\n",
       "      <td>1</td>\n",
       "    </tr>\n",
       "    <tr>\n",
       "      <th>...</th>\n",
       "      <td>...</td>\n",
       "      <td>...</td>\n",
       "      <td>...</td>\n",
       "      <td>...</td>\n",
       "      <td>...</td>\n",
       "      <td>...</td>\n",
       "      <td>...</td>\n",
       "      <td>...</td>\n",
       "      <td>...</td>\n",
       "    </tr>\n",
       "    <tr>\n",
       "      <th>99935</th>\n",
       "      <td>Female</td>\n",
       "      <td>65.0</td>\n",
       "      <td>1</td>\n",
       "      <td>1</td>\n",
       "      <td>never</td>\n",
       "      <td>33.55</td>\n",
       "      <td>8.2</td>\n",
       "      <td>140</td>\n",
       "      <td>1</td>\n",
       "    </tr>\n",
       "    <tr>\n",
       "      <th>99938</th>\n",
       "      <td>Male</td>\n",
       "      <td>55.0</td>\n",
       "      <td>0</td>\n",
       "      <td>1</td>\n",
       "      <td>former</td>\n",
       "      <td>30.42</td>\n",
       "      <td>6.2</td>\n",
       "      <td>300</td>\n",
       "      <td>1</td>\n",
       "    </tr>\n",
       "    <tr>\n",
       "      <th>99957</th>\n",
       "      <td>Female</td>\n",
       "      <td>61.0</td>\n",
       "      <td>0</td>\n",
       "      <td>0</td>\n",
       "      <td>No Info</td>\n",
       "      <td>34.45</td>\n",
       "      <td>6.5</td>\n",
       "      <td>280</td>\n",
       "      <td>1</td>\n",
       "    </tr>\n",
       "    <tr>\n",
       "      <th>99962</th>\n",
       "      <td>Female</td>\n",
       "      <td>58.0</td>\n",
       "      <td>1</td>\n",
       "      <td>0</td>\n",
       "      <td>never</td>\n",
       "      <td>38.31</td>\n",
       "      <td>7.0</td>\n",
       "      <td>200</td>\n",
       "      <td>1</td>\n",
       "    </tr>\n",
       "    <tr>\n",
       "      <th>99979</th>\n",
       "      <td>Female</td>\n",
       "      <td>61.0</td>\n",
       "      <td>0</td>\n",
       "      <td>0</td>\n",
       "      <td>current</td>\n",
       "      <td>30.11</td>\n",
       "      <td>6.2</td>\n",
       "      <td>240</td>\n",
       "      <td>1</td>\n",
       "    </tr>\n",
       "  </tbody>\n",
       "</table>\n",
       "<p>8500 rows × 9 columns</p>\n",
       "</div>"
      ],
      "text/plain": [
       "       gender   age  hypertension  heart_disease smoking_history    bmi  \\\n",
       "6      Female  44.0             0              0           never  19.31   \n",
       "26       Male  67.0             0              1     not current  27.32   \n",
       "38       Male  50.0             1              0         current  27.32   \n",
       "40       Male  73.0             0              0          former  25.91   \n",
       "53     Female  53.0             0              0          former  27.32   \n",
       "...       ...   ...           ...            ...             ...    ...   \n",
       "99935  Female  65.0             1              1           never  33.55   \n",
       "99938    Male  55.0             0              1          former  30.42   \n",
       "99957  Female  61.0             0              0         No Info  34.45   \n",
       "99962  Female  58.0             1              0           never  38.31   \n",
       "99979  Female  61.0             0              0         current  30.11   \n",
       "\n",
       "       HbA1c_level  blood_glucose_level  diabetes  \n",
       "6              6.5                  200         1  \n",
       "26             6.5                  200         1  \n",
       "38             5.7                  260         1  \n",
       "40             9.0                  160         1  \n",
       "53             7.0                  159         1  \n",
       "...            ...                  ...       ...  \n",
       "99935          8.2                  140         1  \n",
       "99938          6.2                  300         1  \n",
       "99957          6.5                  280         1  \n",
       "99962          7.0                  200         1  \n",
       "99979          6.2                  240         1  \n",
       "\n",
       "[8500 rows x 9 columns]"
      ]
     },
     "execution_count": 4,
     "metadata": {},
     "output_type": "execute_result"
    }
   ],
   "source": [
    "df[df['diabetes'] == 1]"
   ]
  },
  {
   "cell_type": "code",
   "execution_count": 5,
   "id": "38055471",
   "metadata": {
    "execution": {
     "iopub.execute_input": "2023-06-01T02:02:21.124625Z",
     "iopub.status.busy": "2023-06-01T02:02:21.123447Z",
     "iopub.status.idle": "2023-06-01T02:02:21.131793Z",
     "shell.execute_reply": "2023-06-01T02:02:21.130340Z"
    },
    "papermill": {
     "duration": 0.026109,
     "end_time": "2023-06-01T02:02:21.134410",
     "exception": false,
     "start_time": "2023-06-01T02:02:21.108301",
     "status": "completed"
    },
    "tags": []
   },
   "outputs": [
    {
     "data": {
      "text/plain": [
       "100000"
      ]
     },
     "execution_count": 5,
     "metadata": {},
     "output_type": "execute_result"
    }
   ],
   "source": [
    "len(df)"
   ]
  },
  {
   "cell_type": "code",
   "execution_count": 6,
   "id": "e042b935",
   "metadata": {
    "execution": {
     "iopub.execute_input": "2023-06-01T02:02:21.164033Z",
     "iopub.status.busy": "2023-06-01T02:02:21.163588Z",
     "iopub.status.idle": "2023-06-01T02:02:21.174170Z",
     "shell.execute_reply": "2023-06-01T02:02:21.172874Z"
    },
    "papermill": {
     "duration": 0.02823,
     "end_time": "2023-06-01T02:02:21.176640",
     "exception": false,
     "start_time": "2023-06-01T02:02:21.148410",
     "status": "completed"
    },
    "tags": []
   },
   "outputs": [
    {
     "data": {
      "text/plain": [
       "0    91500\n",
       "1     8500\n",
       "Name: diabetes, dtype: int64"
      ]
     },
     "execution_count": 6,
     "metadata": {},
     "output_type": "execute_result"
    }
   ],
   "source": [
    "df['diabetes'].value_counts()"
   ]
  },
  {
   "cell_type": "code",
   "execution_count": 7,
   "id": "55f576a5",
   "metadata": {
    "execution": {
     "iopub.execute_input": "2023-06-01T02:02:21.208065Z",
     "iopub.status.busy": "2023-06-01T02:02:21.207664Z",
     "iopub.status.idle": "2023-06-01T02:02:23.317294Z",
     "shell.execute_reply": "2023-06-01T02:02:23.316345Z"
    },
    "papermill": {
     "duration": 2.128525,
     "end_time": "2023-06-01T02:02:23.319736",
     "exception": false,
     "start_time": "2023-06-01T02:02:21.191211",
     "status": "completed"
    },
    "tags": []
   },
   "outputs": [
    {
     "data": {
      "image/png": "[encoded data removed]",
      "text/plain": [
       "<Figure size 1200x800 with 9 Axes>"
      ]
     },
     "metadata": {},
     "output_type": "display_data"
    }
   ],
   "source": [
    "#histogram\n",
    "import matplotlib.pyplot as plt\n",
    "df.hist(bins=50, figsize=(12, 8))\n",
    "plt.show()"
   ]
  },
  {
   "cell_type": "code",
   "execution_count": 8,
   "id": "13c84a68",
   "metadata": {
    "execution": {
     "iopub.execute_input": "2023-06-01T02:02:23.353816Z",
     "iopub.status.busy": "2023-06-01T02:02:23.352979Z",
     "iopub.status.idle": "2023-06-01T02:02:23.371967Z",
     "shell.execute_reply": "2023-06-01T02:02:23.370588Z"
    },
    "papermill": {
     "duration": 0.03909,
     "end_time": "2023-06-01T02:02:23.374758",
     "exception": false,
     "start_time": "2023-06-01T02:02:23.335668",
     "status": "completed"
    },
    "tags": []
   },
   "outputs": [
    {
     "data": {
      "text/html": [
       "<div>\n",
       "<style scoped>\n",
       "    .dataframe tbody tr th:only-of-type {\n",
       "        vertical-align: middle;\n",
       "    }\n",
       "\n",
       "    .dataframe tbody tr th {\n",
       "        vertical-align: top;\n",
       "    }\n",
       "\n",
       "    .dataframe thead th {\n",
       "        text-align: right;\n",
       "    }\n",
       "</style>\n",
       "<table border=\"1\" class=\"dataframe\">\n",
       "  <thead>\n",
       "    <tr style=\"text-align: right;\">\n",
       "      <th></th>\n",
       "      <th>gender</th>\n",
       "      <th>age</th>\n",
       "      <th>hypertension</th>\n",
       "      <th>heart_disease</th>\n",
       "      <th>smoking_history</th>\n",
       "      <th>bmi</th>\n",
       "      <th>HbA1c_level</th>\n",
       "      <th>blood_glucose_level</th>\n",
       "      <th>diabetes</th>\n",
       "    </tr>\n",
       "  </thead>\n",
       "  <tbody>\n",
       "    <tr>\n",
       "      <th>0</th>\n",
       "      <td>Female</td>\n",
       "      <td>80.0</td>\n",
       "      <td>0</td>\n",
       "      <td>1</td>\n",
       "      <td>never</td>\n",
       "      <td>25.19</td>\n",
       "      <td>6.6</td>\n",
       "      <td>140</td>\n",
       "      <td>0</td>\n",
       "    </tr>\n",
       "    <tr>\n",
       "      <th>1</th>\n",
       "      <td>Female</td>\n",
       "      <td>54.0</td>\n",
       "      <td>0</td>\n",
       "      <td>0</td>\n",
       "      <td>No Info</td>\n",
       "      <td>27.32</td>\n",
       "      <td>6.6</td>\n",
       "      <td>80</td>\n",
       "      <td>0</td>\n",
       "    </tr>\n",
       "    <tr>\n",
       "      <th>2</th>\n",
       "      <td>Male</td>\n",
       "      <td>28.0</td>\n",
       "      <td>0</td>\n",
       "      <td>0</td>\n",
       "      <td>never</td>\n",
       "      <td>27.32</td>\n",
       "      <td>5.7</td>\n",
       "      <td>158</td>\n",
       "      <td>0</td>\n",
       "    </tr>\n",
       "    <tr>\n",
       "      <th>3</th>\n",
       "      <td>Female</td>\n",
       "      <td>36.0</td>\n",
       "      <td>0</td>\n",
       "      <td>0</td>\n",
       "      <td>current</td>\n",
       "      <td>23.45</td>\n",
       "      <td>5.0</td>\n",
       "      <td>155</td>\n",
       "      <td>0</td>\n",
       "    </tr>\n",
       "    <tr>\n",
       "      <th>4</th>\n",
       "      <td>Male</td>\n",
       "      <td>76.0</td>\n",
       "      <td>1</td>\n",
       "      <td>1</td>\n",
       "      <td>current</td>\n",
       "      <td>20.14</td>\n",
       "      <td>4.8</td>\n",
       "      <td>155</td>\n",
       "      <td>0</td>\n",
       "    </tr>\n",
       "  </tbody>\n",
       "</table>\n",
       "</div>"
      ],
      "text/plain": [
       "   gender   age  hypertension  heart_disease smoking_history    bmi  \\\n",
       "0  Female  80.0             0              1           never  25.19   \n",
       "1  Female  54.0             0              0         No Info  27.32   \n",
       "2    Male  28.0             0              0           never  27.32   \n",
       "3  Female  36.0             0              0         current  23.45   \n",
       "4    Male  76.0             1              1         current  20.14   \n",
       "\n",
       "   HbA1c_level  blood_glucose_level  diabetes  \n",
       "0          6.6                  140         0  \n",
       "1          6.6                   80         0  \n",
       "2          5.7                  158         0  \n",
       "3          5.0                  155         0  \n",
       "4          4.8                  155         0  "
      ]
     },
     "execution_count": 8,
     "metadata": {},
     "output_type": "execute_result"
    }
   ],
   "source": [
    "df.head()"
   ]
  },
  {
   "cell_type": "code",
   "execution_count": 9,
   "id": "8052c6aa",
   "metadata": {
    "execution": {
     "iopub.execute_input": "2023-06-01T02:02:23.408792Z",
     "iopub.status.busy": "2023-06-01T02:02:23.407720Z",
     "iopub.status.idle": "2023-06-01T02:02:23.430937Z",
     "shell.execute_reply": "2023-06-01T02:02:23.429889Z"
    },
    "papermill": {
     "duration": 0.042731,
     "end_time": "2023-06-01T02:02:23.433472",
     "exception": false,
     "start_time": "2023-06-01T02:02:23.390741",
     "status": "completed"
    },
    "tags": []
   },
   "outputs": [
    {
     "data": {
      "text/plain": [
       "Female    58552\n",
       "Male      41430\n",
       "Other        18\n",
       "Name: gender, dtype: int64"
      ]
     },
     "execution_count": 9,
     "metadata": {},
     "output_type": "execute_result"
    }
   ],
   "source": [
    "df['gender'].value_counts()"
   ]
  },
  {
   "cell_type": "code",
   "execution_count": 10,
   "id": "70e1dced",
   "metadata": {
    "execution": {
     "iopub.execute_input": "2023-06-01T02:02:23.467063Z",
     "iopub.status.busy": "2023-06-01T02:02:23.466270Z",
     "iopub.status.idle": "2023-06-01T02:02:23.489085Z",
     "shell.execute_reply": "2023-06-01T02:02:23.487995Z"
    },
    "papermill": {
     "duration": 0.042328,
     "end_time": "2023-06-01T02:02:23.491513",
     "exception": false,
     "start_time": "2023-06-01T02:02:23.449185",
     "status": "completed"
    },
    "tags": []
   },
   "outputs": [
    {
     "data": {
      "text/plain": [
       "No Info        35816\n",
       "never          35095\n",
       "former          9352\n",
       "current         9286\n",
       "not current     6447\n",
       "ever            4004\n",
       "Name: smoking_history, dtype: int64"
      ]
     },
     "execution_count": 10,
     "metadata": {},
     "output_type": "execute_result"
    }
   ],
   "source": [
    "df['smoking_history'].value_counts()"
   ]
  },
  {
   "cell_type": "code",
   "execution_count": 11,
   "id": "534b956f",
   "metadata": {
    "execution": {
     "iopub.execute_input": "2023-06-01T02:02:23.525439Z",
     "iopub.status.busy": "2023-06-01T02:02:23.524616Z",
     "iopub.status.idle": "2023-06-01T02:02:23.579797Z",
     "shell.execute_reply": "2023-06-01T02:02:23.578539Z"
    },
    "papermill": {
     "duration": 0.074952,
     "end_time": "2023-06-01T02:02:23.582296",
     "exception": false,
     "start_time": "2023-06-01T02:02:23.507344",
     "status": "completed"
    },
    "tags": []
   },
   "outputs": [
    {
     "data": {
      "text/html": [
       "<div>\n",
       "<style scoped>\n",
       "    .dataframe tbody tr th:only-of-type {\n",
       "        vertical-align: middle;\n",
       "    }\n",
       "\n",
       "    .dataframe tbody tr th {\n",
       "        vertical-align: top;\n",
       "    }\n",
       "\n",
       "    .dataframe thead th {\n",
       "        text-align: right;\n",
       "    }\n",
       "</style>\n",
       "<table border=\"1\" class=\"dataframe\">\n",
       "  <thead>\n",
       "    <tr style=\"text-align: right;\">\n",
       "      <th></th>\n",
       "      <th>age</th>\n",
       "      <th>hypertension</th>\n",
       "      <th>heart_disease</th>\n",
       "      <th>bmi</th>\n",
       "      <th>HbA1c_level</th>\n",
       "      <th>blood_glucose_level</th>\n",
       "      <th>diabetes</th>\n",
       "      <th>gender_Male</th>\n",
       "      <th>gender_Other</th>\n",
       "      <th>smoking_history_current</th>\n",
       "      <th>smoking_history_ever</th>\n",
       "      <th>smoking_history_former</th>\n",
       "      <th>smoking_history_never</th>\n",
       "      <th>smoking_history_not current</th>\n",
       "    </tr>\n",
       "  </thead>\n",
       "  <tbody>\n",
       "    <tr>\n",
       "      <th>0</th>\n",
       "      <td>80.0</td>\n",
       "      <td>0</td>\n",
       "      <td>1</td>\n",
       "      <td>25.19</td>\n",
       "      <td>6.6</td>\n",
       "      <td>140</td>\n",
       "      <td>0</td>\n",
       "      <td>0</td>\n",
       "      <td>0</td>\n",
       "      <td>0</td>\n",
       "      <td>0</td>\n",
       "      <td>0</td>\n",
       "      <td>1</td>\n",
       "      <td>0</td>\n",
       "    </tr>\n",
       "    <tr>\n",
       "      <th>1</th>\n",
       "      <td>54.0</td>\n",
       "      <td>0</td>\n",
       "      <td>0</td>\n",
       "      <td>27.32</td>\n",
       "      <td>6.6</td>\n",
       "      <td>80</td>\n",
       "      <td>0</td>\n",
       "      <td>0</td>\n",
       "      <td>0</td>\n",
       "      <td>0</td>\n",
       "      <td>0</td>\n",
       "      <td>0</td>\n",
       "      <td>0</td>\n",
       "      <td>0</td>\n",
       "    </tr>\n",
       "    <tr>\n",
       "      <th>2</th>\n",
       "      <td>28.0</td>\n",
       "      <td>0</td>\n",
       "      <td>0</td>\n",
       "      <td>27.32</td>\n",
       "      <td>5.7</td>\n",
       "      <td>158</td>\n",
       "      <td>0</td>\n",
       "      <td>1</td>\n",
       "      <td>0</td>\n",
       "      <td>0</td>\n",
       "      <td>0</td>\n",
       "      <td>0</td>\n",
       "      <td>1</td>\n",
       "      <td>0</td>\n",
       "    </tr>\n",
       "    <tr>\n",
       "      <th>3</th>\n",
       "      <td>36.0</td>\n",
       "      <td>0</td>\n",
       "      <td>0</td>\n",
       "      <td>23.45</td>\n",
       "      <td>5.0</td>\n",
       "      <td>155</td>\n",
       "      <td>0</td>\n",
       "      <td>0</td>\n",
       "      <td>0</td>\n",
       "      <td>1</td>\n",
       "      <td>0</td>\n",
       "      <td>0</td>\n",
       "      <td>0</td>\n",
       "      <td>0</td>\n",
       "    </tr>\n",
       "    <tr>\n",
       "      <th>4</th>\n",
       "      <td>76.0</td>\n",
       "      <td>1</td>\n",
       "      <td>1</td>\n",
       "      <td>20.14</td>\n",
       "      <td>4.8</td>\n",
       "      <td>155</td>\n",
       "      <td>0</td>\n",
       "      <td>1</td>\n",
       "      <td>0</td>\n",
       "      <td>1</td>\n",
       "      <td>0</td>\n",
       "      <td>0</td>\n",
       "      <td>0</td>\n",
       "      <td>0</td>\n",
       "    </tr>\n",
       "  </tbody>\n",
       "</table>\n",
       "</div>"
      ],
      "text/plain": [
       "    age  hypertension  heart_disease    bmi  HbA1c_level  blood_glucose_level  \\\n",
       "0  80.0             0              1  25.19          6.6                  140   \n",
       "1  54.0             0              0  27.32          6.6                   80   \n",
       "2  28.0             0              0  27.32          5.7                  158   \n",
       "3  36.0             0              0  23.45          5.0                  155   \n",
       "4  76.0             1              1  20.14          4.8                  155   \n",
       "\n",
       "   diabetes  gender_Male  gender_Other  smoking_history_current  \\\n",
       "0         0            0             0                        0   \n",
       "1         0            0             0                        0   \n",
       "2         0            1             0                        0   \n",
       "3         0            0             0                        1   \n",
       "4         0            1             0                        1   \n",
       "\n",
       "   smoking_history_ever  smoking_history_former  smoking_history_never  \\\n",
       "0                     0                       0                      1   \n",
       "1                     0                       0                      0   \n",
       "2                     0                       0                      1   \n",
       "3                     0                       0                      0   \n",
       "4                     0                       0                      0   \n",
       "\n",
       "   smoking_history_not current  \n",
       "0                            0  \n",
       "1                            0  \n",
       "2                            0  \n",
       "3                            0  \n",
       "4                            0  "
      ]
     },
     "execution_count": 11,
     "metadata": {},
     "output_type": "execute_result"
    }
   ],
   "source": [
    "#convert string/objects fileds to numeric via get\n",
    "df2 = pd.get_dummies(df,columns=['gender','smoking_history'],drop_first=True)\n",
    "df2.head()"
   ]
  },
  {
   "cell_type": "code",
   "execution_count": 12,
   "id": "201a9f32",
   "metadata": {
    "execution": {
     "iopub.execute_input": "2023-06-01T02:02:23.616016Z",
     "iopub.status.busy": "2023-06-01T02:02:23.615610Z",
     "iopub.status.idle": "2023-06-01T02:02:23.630125Z",
     "shell.execute_reply": "2023-06-01T02:02:23.629193Z"
    },
    "papermill": {
     "duration": 0.034133,
     "end_time": "2023-06-01T02:02:23.632436",
     "exception": false,
     "start_time": "2023-06-01T02:02:23.598303",
     "status": "completed"
    },
    "tags": []
   },
   "outputs": [
    {
     "data": {
      "text/html": [
       "<div>\n",
       "<style scoped>\n",
       "    .dataframe tbody tr th:only-of-type {\n",
       "        vertical-align: middle;\n",
       "    }\n",
       "\n",
       "    .dataframe tbody tr th {\n",
       "        vertical-align: top;\n",
       "    }\n",
       "\n",
       "    .dataframe thead th {\n",
       "        text-align: right;\n",
       "    }\n",
       "</style>\n",
       "<table border=\"1\" class=\"dataframe\">\n",
       "  <thead>\n",
       "    <tr style=\"text-align: right;\">\n",
       "      <th></th>\n",
       "      <th>gender</th>\n",
       "      <th>smoking_history</th>\n",
       "    </tr>\n",
       "  </thead>\n",
       "  <tbody>\n",
       "    <tr>\n",
       "      <th>0</th>\n",
       "      <td>Female</td>\n",
       "      <td>never</td>\n",
       "    </tr>\n",
       "    <tr>\n",
       "      <th>1</th>\n",
       "      <td>Female</td>\n",
       "      <td>No Info</td>\n",
       "    </tr>\n",
       "    <tr>\n",
       "      <th>2</th>\n",
       "      <td>Male</td>\n",
       "      <td>never</td>\n",
       "    </tr>\n",
       "    <tr>\n",
       "      <th>3</th>\n",
       "      <td>Female</td>\n",
       "      <td>current</td>\n",
       "    </tr>\n",
       "    <tr>\n",
       "      <th>4</th>\n",
       "      <td>Male</td>\n",
       "      <td>current</td>\n",
       "    </tr>\n",
       "  </tbody>\n",
       "</table>\n",
       "</div>"
      ],
      "text/plain": [
       "   gender smoking_history\n",
       "0  Female           never\n",
       "1  Female         No Info\n",
       "2    Male           never\n",
       "3  Female         current\n",
       "4    Male         current"
      ]
     },
     "execution_count": 12,
     "metadata": {},
     "output_type": "execute_result"
    }
   ],
   "source": [
    "#one hot encoder\n",
    "df_category = df[['gender', 'smoking_history']]\n",
    "df_category.head()"
   ]
  },
  {
   "cell_type": "code",
   "execution_count": 13,
   "id": "1598a8bd",
   "metadata": {
    "execution": {
     "iopub.execute_input": "2023-06-01T02:02:23.666661Z",
     "iopub.status.busy": "2023-06-01T02:02:23.666264Z",
     "iopub.status.idle": "2023-06-01T02:02:25.208059Z",
     "shell.execute_reply": "2023-06-01T02:02:25.206767Z"
    },
    "papermill": {
     "duration": 1.562668,
     "end_time": "2023-06-01T02:02:25.211322",
     "exception": false,
     "start_time": "2023-06-01T02:02:23.648654",
     "status": "completed"
    },
    "tags": []
   },
   "outputs": [
    {
     "data": {
      "text/plain": [
       "array([[1., 0., 0., ..., 0., 1., 0.],\n",
       "       [1., 0., 0., ..., 0., 0., 0.],\n",
       "       [0., 1., 0., ..., 0., 1., 0.],\n",
       "       ...,\n",
       "       [0., 1., 0., ..., 1., 0., 0.],\n",
       "       [1., 0., 0., ..., 0., 1., 0.],\n",
       "       [1., 0., 0., ..., 0., 0., 0.]])"
      ]
     },
     "execution_count": 13,
     "metadata": {},
     "output_type": "execute_result"
    }
   ],
   "source": [
    "from sklearn.preprocessing import OneHotEncoder\n",
    "cat_encoder = OneHotEncoder()\n",
    "df_category_1hot = cat_encoder.fit_transform(df_category)\n",
    "df_category_1hot.toarray()"
   ]
  },
  {
   "cell_type": "code",
   "execution_count": 14,
   "id": "8f2fd1b9",
   "metadata": {
    "execution": {
     "iopub.execute_input": "2023-06-01T02:02:25.249620Z",
     "iopub.status.busy": "2023-06-01T02:02:25.249207Z",
     "iopub.status.idle": "2023-06-01T02:02:25.256336Z",
     "shell.execute_reply": "2023-06-01T02:02:25.255272Z"
    },
    "papermill": {
     "duration": 0.028099,
     "end_time": "2023-06-01T02:02:25.258791",
     "exception": false,
     "start_time": "2023-06-01T02:02:25.230692",
     "status": "completed"
    },
    "tags": []
   },
   "outputs": [
    {
     "data": {
      "text/plain": [
       "(100000, 9)"
      ]
     },
     "execution_count": 14,
     "metadata": {},
     "output_type": "execute_result"
    }
   ],
   "source": [
    "df_category_1hot.shape"
   ]
  },
  {
   "cell_type": "code",
   "execution_count": 15,
   "id": "befd143e",
   "metadata": {
    "execution": {
     "iopub.execute_input": "2023-06-01T02:02:25.293885Z",
     "iopub.status.busy": "2023-06-01T02:02:25.293470Z",
     "iopub.status.idle": "2023-06-01T02:02:25.300758Z",
     "shell.execute_reply": "2023-06-01T02:02:25.299657Z"
    },
    "papermill": {
     "duration": 0.027605,
     "end_time": "2023-06-01T02:02:25.303004",
     "exception": false,
     "start_time": "2023-06-01T02:02:25.275399",
     "status": "completed"
    },
    "tags": []
   },
   "outputs": [
    {
     "data": {
      "text/plain": [
       "[array(['Female', 'Male', 'Other'], dtype=object),\n",
       " array(['No Info', 'current', 'ever', 'former', 'never', 'not current'],\n",
       "       dtype=object)]"
      ]
     },
     "execution_count": 15,
     "metadata": {},
     "output_type": "execute_result"
    }
   ],
   "source": [
    "cat_encoder.categories_"
   ]
  },
  {
   "cell_type": "code",
   "execution_count": 16,
   "id": "48463982",
   "metadata": {
    "execution": {
     "iopub.execute_input": "2023-06-01T02:02:25.339369Z",
     "iopub.status.busy": "2023-06-01T02:02:25.338970Z",
     "iopub.status.idle": "2023-06-01T02:02:25.355842Z",
     "shell.execute_reply": "2023-06-01T02:02:25.354244Z"
    },
    "papermill": {
     "duration": 0.038166,
     "end_time": "2023-06-01T02:02:25.358320",
     "exception": false,
     "start_time": "2023-06-01T02:02:25.320154",
     "status": "completed"
    },
    "tags": []
   },
   "outputs": [
    {
     "name": "stdout",
     "output_type": "stream",
     "text": [
      "<class 'pandas.core.frame.DataFrame'>\n",
      "RangeIndex: 100000 entries, 0 to 99999\n",
      "Data columns (total 14 columns):\n",
      " #   Column                       Non-Null Count   Dtype  \n",
      "---  ------                       --------------   -----  \n",
      " 0   age                          100000 non-null  float64\n",
      " 1   hypertension                 100000 non-null  int64  \n",
      " 2   heart_disease                100000 non-null  int64  \n",
      " 3   bmi                          100000 non-null  float64\n",
      " 4   HbA1c_level                  100000 non-null  float64\n",
      " 5   blood_glucose_level          100000 non-null  int64  \n",
      " 6   diabetes                     100000 non-null  int64  \n",
      " 7   gender_Male                  100000 non-null  uint8  \n",
      " 8   gender_Other                 100000 non-null  uint8  \n",
      " 9   smoking_history_current      100000 non-null  uint8  \n",
      " 10  smoking_history_ever         100000 non-null  uint8  \n",
      " 11  smoking_history_former       100000 non-null  uint8  \n",
      " 12  smoking_history_never        100000 non-null  uint8  \n",
      " 13  smoking_history_not current  100000 non-null  uint8  \n",
      "dtypes: float64(3), int64(4), uint8(7)\n",
      "memory usage: 6.0 MB\n"
     ]
    }
   ],
   "source": [
    "df2.info()"
   ]
  },
  {
   "cell_type": "code",
   "execution_count": 17,
   "id": "c4c35b75",
   "metadata": {
    "execution": {
     "iopub.execute_input": "2023-06-01T02:02:25.394842Z",
     "iopub.status.busy": "2023-06-01T02:02:25.394088Z",
     "iopub.status.idle": "2023-06-01T02:02:25.400716Z",
     "shell.execute_reply": "2023-06-01T02:02:25.399606Z"
    },
    "papermill": {
     "duration": 0.027442,
     "end_time": "2023-06-01T02:02:25.403062",
     "exception": false,
     "start_time": "2023-06-01T02:02:25.375620",
     "status": "completed"
    },
    "tags": []
   },
   "outputs": [
    {
     "data": {
      "text/plain": [
       "(100000,)"
      ]
     },
     "execution_count": 17,
     "metadata": {},
     "output_type": "execute_result"
    }
   ],
   "source": [
    "#collect output label\n",
    "y = df2['diabetes']\n",
    "y.shape"
   ]
  },
  {
   "cell_type": "code",
   "execution_count": 18,
   "id": "cf26d94c",
   "metadata": {
    "execution": {
     "iopub.execute_input": "2023-06-01T02:02:25.438942Z",
     "iopub.status.busy": "2023-06-01T02:02:25.438336Z",
     "iopub.status.idle": "2023-06-01T02:02:25.460309Z",
     "shell.execute_reply": "2023-06-01T02:02:25.459134Z"
    },
    "papermill": {
     "duration": 0.04277,
     "end_time": "2023-06-01T02:02:25.462724",
     "exception": false,
     "start_time": "2023-06-01T02:02:25.419954",
     "status": "completed"
    },
    "tags": []
   },
   "outputs": [
    {
     "data": {
      "text/html": [
       "<div>\n",
       "<style scoped>\n",
       "    .dataframe tbody tr th:only-of-type {\n",
       "        vertical-align: middle;\n",
       "    }\n",
       "\n",
       "    .dataframe tbody tr th {\n",
       "        vertical-align: top;\n",
       "    }\n",
       "\n",
       "    .dataframe thead th {\n",
       "        text-align: right;\n",
       "    }\n",
       "</style>\n",
       "<table border=\"1\" class=\"dataframe\">\n",
       "  <thead>\n",
       "    <tr style=\"text-align: right;\">\n",
       "      <th></th>\n",
       "      <th>age</th>\n",
       "      <th>hypertension</th>\n",
       "      <th>heart_disease</th>\n",
       "      <th>bmi</th>\n",
       "      <th>HbA1c_level</th>\n",
       "      <th>blood_glucose_level</th>\n",
       "      <th>gender_Male</th>\n",
       "      <th>gender_Other</th>\n",
       "      <th>smoking_history_current</th>\n",
       "      <th>smoking_history_ever</th>\n",
       "      <th>smoking_history_former</th>\n",
       "      <th>smoking_history_never</th>\n",
       "      <th>smoking_history_not current</th>\n",
       "    </tr>\n",
       "  </thead>\n",
       "  <tbody>\n",
       "    <tr>\n",
       "      <th>0</th>\n",
       "      <td>80.0</td>\n",
       "      <td>0</td>\n",
       "      <td>1</td>\n",
       "      <td>25.19</td>\n",
       "      <td>6.6</td>\n",
       "      <td>140</td>\n",
       "      <td>0</td>\n",
       "      <td>0</td>\n",
       "      <td>0</td>\n",
       "      <td>0</td>\n",
       "      <td>0</td>\n",
       "      <td>1</td>\n",
       "      <td>0</td>\n",
       "    </tr>\n",
       "    <tr>\n",
       "      <th>1</th>\n",
       "      <td>54.0</td>\n",
       "      <td>0</td>\n",
       "      <td>0</td>\n",
       "      <td>27.32</td>\n",
       "      <td>6.6</td>\n",
       "      <td>80</td>\n",
       "      <td>0</td>\n",
       "      <td>0</td>\n",
       "      <td>0</td>\n",
       "      <td>0</td>\n",
       "      <td>0</td>\n",
       "      <td>0</td>\n",
       "      <td>0</td>\n",
       "    </tr>\n",
       "    <tr>\n",
       "      <th>2</th>\n",
       "      <td>28.0</td>\n",
       "      <td>0</td>\n",
       "      <td>0</td>\n",
       "      <td>27.32</td>\n",
       "      <td>5.7</td>\n",
       "      <td>158</td>\n",
       "      <td>1</td>\n",
       "      <td>0</td>\n",
       "      <td>0</td>\n",
       "      <td>0</td>\n",
       "      <td>0</td>\n",
       "      <td>1</td>\n",
       "      <td>0</td>\n",
       "    </tr>\n",
       "    <tr>\n",
       "      <th>3</th>\n",
       "      <td>36.0</td>\n",
       "      <td>0</td>\n",
       "      <td>0</td>\n",
       "      <td>23.45</td>\n",
       "      <td>5.0</td>\n",
       "      <td>155</td>\n",
       "      <td>0</td>\n",
       "      <td>0</td>\n",
       "      <td>1</td>\n",
       "      <td>0</td>\n",
       "      <td>0</td>\n",
       "      <td>0</td>\n",
       "      <td>0</td>\n",
       "    </tr>\n",
       "    <tr>\n",
       "      <th>4</th>\n",
       "      <td>76.0</td>\n",
       "      <td>1</td>\n",
       "      <td>1</td>\n",
       "      <td>20.14</td>\n",
       "      <td>4.8</td>\n",
       "      <td>155</td>\n",
       "      <td>1</td>\n",
       "      <td>0</td>\n",
       "      <td>1</td>\n",
       "      <td>0</td>\n",
       "      <td>0</td>\n",
       "      <td>0</td>\n",
       "      <td>0</td>\n",
       "    </tr>\n",
       "  </tbody>\n",
       "</table>\n",
       "</div>"
      ],
      "text/plain": [
       "    age  hypertension  heart_disease    bmi  HbA1c_level  blood_glucose_level  \\\n",
       "0  80.0             0              1  25.19          6.6                  140   \n",
       "1  54.0             0              0  27.32          6.6                   80   \n",
       "2  28.0             0              0  27.32          5.7                  158   \n",
       "3  36.0             0              0  23.45          5.0                  155   \n",
       "4  76.0             1              1  20.14          4.8                  155   \n",
       "\n",
       "   gender_Male  gender_Other  smoking_history_current  smoking_history_ever  \\\n",
       "0            0             0                        0                     0   \n",
       "1            0             0                        0                     0   \n",
       "2            1             0                        0                     0   \n",
       "3            0             0                        1                     0   \n",
       "4            1             0                        1                     0   \n",
       "\n",
       "   smoking_history_former  smoking_history_never  smoking_history_not current  \n",
       "0                       0                      1                            0  \n",
       "1                       0                      0                            0  \n",
       "2                       0                      1                            0  \n",
       "3                       0                      0                            0  \n",
       "4                       0                      0                            0  "
      ]
     },
     "execution_count": 18,
     "metadata": {},
     "output_type": "execute_result"
    }
   ],
   "source": [
    "#drop output label from input data\n",
    "X = df2.drop('diabetes', axis=1)\n",
    "X2=X\n",
    "X.head()"
   ]
  },
  {
   "cell_type": "code",
   "execution_count": 19,
   "id": "e4678637",
   "metadata": {
    "execution": {
     "iopub.execute_input": "2023-06-01T02:02:25.499748Z",
     "iopub.status.busy": "2023-06-01T02:02:25.498867Z",
     "iopub.status.idle": "2023-06-01T02:02:25.516136Z",
     "shell.execute_reply": "2023-06-01T02:02:25.514895Z"
    },
    "papermill": {
     "duration": 0.038876,
     "end_time": "2023-06-01T02:02:25.518808",
     "exception": false,
     "start_time": "2023-06-01T02:02:25.479932",
     "status": "completed"
    },
    "tags": []
   },
   "outputs": [
    {
     "data": {
      "text/html": [
       "<div>\n",
       "<style scoped>\n",
       "    .dataframe tbody tr th:only-of-type {\n",
       "        vertical-align: middle;\n",
       "    }\n",
       "\n",
       "    .dataframe tbody tr th {\n",
       "        vertical-align: top;\n",
       "    }\n",
       "\n",
       "    .dataframe thead th {\n",
       "        text-align: right;\n",
       "    }\n",
       "</style>\n",
       "<table border=\"1\" class=\"dataframe\">\n",
       "  <thead>\n",
       "    <tr style=\"text-align: right;\">\n",
       "      <th></th>\n",
       "      <th>age</th>\n",
       "      <th>hypertension</th>\n",
       "      <th>heart_disease</th>\n",
       "      <th>bmi</th>\n",
       "      <th>HbA1c_level</th>\n",
       "      <th>blood_glucose_level</th>\n",
       "      <th>gender_Male</th>\n",
       "      <th>gender_Other</th>\n",
       "      <th>smoking_history_current</th>\n",
       "      <th>smoking_history_ever</th>\n",
       "      <th>smoking_history_former</th>\n",
       "      <th>smoking_history_never</th>\n",
       "      <th>smoking_history_not current</th>\n",
       "    </tr>\n",
       "  </thead>\n",
       "  <tbody>\n",
       "    <tr>\n",
       "      <th>0</th>\n",
       "      <td>80.0</td>\n",
       "      <td>0</td>\n",
       "      <td>1</td>\n",
       "      <td>25.19</td>\n",
       "      <td>6.6</td>\n",
       "      <td>140</td>\n",
       "      <td>0</td>\n",
       "      <td>0</td>\n",
       "      <td>0</td>\n",
       "      <td>0</td>\n",
       "      <td>0</td>\n",
       "      <td>1</td>\n",
       "      <td>0</td>\n",
       "    </tr>\n",
       "    <tr>\n",
       "      <th>1</th>\n",
       "      <td>54.0</td>\n",
       "      <td>0</td>\n",
       "      <td>0</td>\n",
       "      <td>27.32</td>\n",
       "      <td>6.6</td>\n",
       "      <td>80</td>\n",
       "      <td>0</td>\n",
       "      <td>0</td>\n",
       "      <td>0</td>\n",
       "      <td>0</td>\n",
       "      <td>0</td>\n",
       "      <td>0</td>\n",
       "      <td>0</td>\n",
       "    </tr>\n",
       "    <tr>\n",
       "      <th>2</th>\n",
       "      <td>28.0</td>\n",
       "      <td>0</td>\n",
       "      <td>0</td>\n",
       "      <td>27.32</td>\n",
       "      <td>5.7</td>\n",
       "      <td>158</td>\n",
       "      <td>1</td>\n",
       "      <td>0</td>\n",
       "      <td>0</td>\n",
       "      <td>0</td>\n",
       "      <td>0</td>\n",
       "      <td>1</td>\n",
       "      <td>0</td>\n",
       "    </tr>\n",
       "    <tr>\n",
       "      <th>3</th>\n",
       "      <td>36.0</td>\n",
       "      <td>0</td>\n",
       "      <td>0</td>\n",
       "      <td>23.45</td>\n",
       "      <td>5.0</td>\n",
       "      <td>155</td>\n",
       "      <td>0</td>\n",
       "      <td>0</td>\n",
       "      <td>1</td>\n",
       "      <td>0</td>\n",
       "      <td>0</td>\n",
       "      <td>0</td>\n",
       "      <td>0</td>\n",
       "    </tr>\n",
       "    <tr>\n",
       "      <th>4</th>\n",
       "      <td>76.0</td>\n",
       "      <td>1</td>\n",
       "      <td>1</td>\n",
       "      <td>20.14</td>\n",
       "      <td>4.8</td>\n",
       "      <td>155</td>\n",
       "      <td>1</td>\n",
       "      <td>0</td>\n",
       "      <td>1</td>\n",
       "      <td>0</td>\n",
       "      <td>0</td>\n",
       "      <td>0</td>\n",
       "      <td>0</td>\n",
       "    </tr>\n",
       "  </tbody>\n",
       "</table>\n",
       "</div>"
      ],
      "text/plain": [
       "    age  hypertension  heart_disease    bmi  HbA1c_level  blood_glucose_level  \\\n",
       "0  80.0             0              1  25.19          6.6                  140   \n",
       "1  54.0             0              0  27.32          6.6                   80   \n",
       "2  28.0             0              0  27.32          5.7                  158   \n",
       "3  36.0             0              0  23.45          5.0                  155   \n",
       "4  76.0             1              1  20.14          4.8                  155   \n",
       "\n",
       "   gender_Male  gender_Other  smoking_history_current  smoking_history_ever  \\\n",
       "0            0             0                        0                     0   \n",
       "1            0             0                        0                     0   \n",
       "2            1             0                        0                     0   \n",
       "3            0             0                        1                     0   \n",
       "4            1             0                        1                     0   \n",
       "\n",
       "   smoking_history_former  smoking_history_never  smoking_history_not current  \n",
       "0                       0                      1                            0  \n",
       "1                       0                      0                            0  \n",
       "2                       0                      1                            0  \n",
       "3                       0                      0                            0  \n",
       "4                       0                      0                            0  "
      ]
     },
     "execution_count": 19,
     "metadata": {},
     "output_type": "execute_result"
    }
   ],
   "source": [
    "X2.head()"
   ]
  },
  {
   "cell_type": "code",
   "execution_count": 20,
   "id": "48a928a5",
   "metadata": {
    "execution": {
     "iopub.execute_input": "2023-06-01T02:02:25.556774Z",
     "iopub.status.busy": "2023-06-01T02:02:25.556378Z",
     "iopub.status.idle": "2023-06-01T02:02:25.561399Z",
     "shell.execute_reply": "2023-06-01T02:02:25.559868Z"
    },
    "papermill": {
     "duration": 0.026886,
     "end_time": "2023-06-01T02:02:25.563968",
     "exception": false,
     "start_time": "2023-06-01T02:02:25.537082",
     "status": "completed"
    },
    "tags": []
   },
   "outputs": [],
   "source": [
    "#from sklearn.preprocessing import MinMaxScaler\n",
    "\n",
    "#min_max_scaler = MinMaxScaler()\n",
    "#X2[['age','bmi','HbA1c_level','blood_glucose_level']] = min_max_scaler.fit_transform(X2[['age','bmi','HbA1c_level','blood_glucose_level']])\n",
    "#X2.head()"
   ]
  },
  {
   "cell_type": "code",
   "execution_count": 21,
   "id": "8d248842",
   "metadata": {
    "execution": {
     "iopub.execute_input": "2023-06-01T02:02:25.602298Z",
     "iopub.status.busy": "2023-06-01T02:02:25.601743Z",
     "iopub.status.idle": "2023-06-01T02:02:25.652493Z",
     "shell.execute_reply": "2023-06-01T02:02:25.651187Z"
    },
    "papermill": {
     "duration": 0.072629,
     "end_time": "2023-06-01T02:02:25.655093",
     "exception": false,
     "start_time": "2023-06-01T02:02:25.582464",
     "status": "completed"
    },
    "tags": []
   },
   "outputs": [
    {
     "data": {
      "text/html": [
       "<div>\n",
       "<style scoped>\n",
       "    .dataframe tbody tr th:only-of-type {\n",
       "        vertical-align: middle;\n",
       "    }\n",
       "\n",
       "    .dataframe tbody tr th {\n",
       "        vertical-align: top;\n",
       "    }\n",
       "\n",
       "    .dataframe thead th {\n",
       "        text-align: right;\n",
       "    }\n",
       "</style>\n",
       "<table border=\"1\" class=\"dataframe\">\n",
       "  <thead>\n",
       "    <tr style=\"text-align: right;\">\n",
       "      <th></th>\n",
       "      <th>age</th>\n",
       "      <th>hypertension</th>\n",
       "      <th>heart_disease</th>\n",
       "      <th>bmi</th>\n",
       "      <th>HbA1c_level</th>\n",
       "      <th>blood_glucose_level</th>\n",
       "      <th>gender_Male</th>\n",
       "      <th>gender_Other</th>\n",
       "      <th>smoking_history_current</th>\n",
       "      <th>smoking_history_ever</th>\n",
       "      <th>smoking_history_former</th>\n",
       "      <th>smoking_history_never</th>\n",
       "      <th>smoking_history_not current</th>\n",
       "    </tr>\n",
       "  </thead>\n",
       "  <tbody>\n",
       "    <tr>\n",
       "      <th>0</th>\n",
       "      <td>1.692704</td>\n",
       "      <td>0</td>\n",
       "      <td>1</td>\n",
       "      <td>-0.321056</td>\n",
       "      <td>1.001706</td>\n",
       "      <td>0.047704</td>\n",
       "      <td>0</td>\n",
       "      <td>0</td>\n",
       "      <td>0</td>\n",
       "      <td>0</td>\n",
       "      <td>0</td>\n",
       "      <td>1</td>\n",
       "      <td>0</td>\n",
       "    </tr>\n",
       "    <tr>\n",
       "      <th>1</th>\n",
       "      <td>0.538006</td>\n",
       "      <td>0</td>\n",
       "      <td>0</td>\n",
       "      <td>-0.000116</td>\n",
       "      <td>1.001706</td>\n",
       "      <td>-1.426210</td>\n",
       "      <td>0</td>\n",
       "      <td>0</td>\n",
       "      <td>0</td>\n",
       "      <td>0</td>\n",
       "      <td>0</td>\n",
       "      <td>0</td>\n",
       "      <td>0</td>\n",
       "    </tr>\n",
       "    <tr>\n",
       "      <th>2</th>\n",
       "      <td>-0.616691</td>\n",
       "      <td>0</td>\n",
       "      <td>0</td>\n",
       "      <td>-0.000116</td>\n",
       "      <td>0.161108</td>\n",
       "      <td>0.489878</td>\n",
       "      <td>1</td>\n",
       "      <td>0</td>\n",
       "      <td>0</td>\n",
       "      <td>0</td>\n",
       "      <td>0</td>\n",
       "      <td>1</td>\n",
       "      <td>0</td>\n",
       "    </tr>\n",
       "    <tr>\n",
       "      <th>3</th>\n",
       "      <td>-0.261399</td>\n",
       "      <td>0</td>\n",
       "      <td>0</td>\n",
       "      <td>-0.583232</td>\n",
       "      <td>-0.492690</td>\n",
       "      <td>0.416183</td>\n",
       "      <td>0</td>\n",
       "      <td>0</td>\n",
       "      <td>1</td>\n",
       "      <td>0</td>\n",
       "      <td>0</td>\n",
       "      <td>0</td>\n",
       "      <td>0</td>\n",
       "    </tr>\n",
       "    <tr>\n",
       "      <th>4</th>\n",
       "      <td>1.515058</td>\n",
       "      <td>1</td>\n",
       "      <td>1</td>\n",
       "      <td>-1.081970</td>\n",
       "      <td>-0.679490</td>\n",
       "      <td>0.416183</td>\n",
       "      <td>1</td>\n",
       "      <td>0</td>\n",
       "      <td>1</td>\n",
       "      <td>0</td>\n",
       "      <td>0</td>\n",
       "      <td>0</td>\n",
       "      <td>0</td>\n",
       "    </tr>\n",
       "  </tbody>\n",
       "</table>\n",
       "</div>"
      ],
      "text/plain": [
       "        age  hypertension  heart_disease       bmi  HbA1c_level  \\\n",
       "0  1.692704             0              1 -0.321056     1.001706   \n",
       "1  0.538006             0              0 -0.000116     1.001706   \n",
       "2 -0.616691             0              0 -0.000116     0.161108   \n",
       "3 -0.261399             0              0 -0.583232    -0.492690   \n",
       "4  1.515058             1              1 -1.081970    -0.679490   \n",
       "\n",
       "   blood_glucose_level  gender_Male  gender_Other  smoking_history_current  \\\n",
       "0             0.047704            0             0                        0   \n",
       "1            -1.426210            0             0                        0   \n",
       "2             0.489878            1             0                        0   \n",
       "3             0.416183            0             0                        1   \n",
       "4             0.416183            1             0                        1   \n",
       "\n",
       "   smoking_history_ever  smoking_history_former  smoking_history_never  \\\n",
       "0                     0                       0                      1   \n",
       "1                     0                       0                      0   \n",
       "2                     0                       0                      1   \n",
       "3                     0                       0                      0   \n",
       "4                     0                       0                      0   \n",
       "\n",
       "   smoking_history_not current  \n",
       "0                            0  \n",
       "1                            0  \n",
       "2                            0  \n",
       "3                            0  \n",
       "4                            0  "
      ]
     },
     "execution_count": 21,
     "metadata": {},
     "output_type": "execute_result"
    }
   ],
   "source": [
    "#feature scaling\n",
    "from sklearn.preprocessing import StandardScaler\n",
    "\n",
    "std_scaler = StandardScaler()\n",
    "X[['age','bmi','HbA1c_level','blood_glucose_level']] = std_scaler.fit_transform(X[['age','bmi','HbA1c_level','blood_glucose_level']])\n",
    "X.head()"
   ]
  },
  {
   "cell_type": "code",
   "execution_count": 22,
   "id": "79fc95a7",
   "metadata": {
    "execution": {
     "iopub.execute_input": "2023-06-01T02:02:25.692814Z",
     "iopub.status.busy": "2023-06-01T02:02:25.692407Z",
     "iopub.status.idle": "2023-06-01T02:02:25.710571Z",
     "shell.execute_reply": "2023-06-01T02:02:25.709636Z"
    },
    "papermill": {
     "duration": 0.039815,
     "end_time": "2023-06-01T02:02:25.712789",
     "exception": false,
     "start_time": "2023-06-01T02:02:25.672974",
     "status": "completed"
    },
    "tags": []
   },
   "outputs": [
    {
     "data": {
      "text/html": [
       "<div>\n",
       "<style scoped>\n",
       "    .dataframe tbody tr th:only-of-type {\n",
       "        vertical-align: middle;\n",
       "    }\n",
       "\n",
       "    .dataframe tbody tr th {\n",
       "        vertical-align: top;\n",
       "    }\n",
       "\n",
       "    .dataframe thead th {\n",
       "        text-align: right;\n",
       "    }\n",
       "</style>\n",
       "<table border=\"1\" class=\"dataframe\">\n",
       "  <thead>\n",
       "    <tr style=\"text-align: right;\">\n",
       "      <th></th>\n",
       "      <th>age</th>\n",
       "      <th>hypertension</th>\n",
       "      <th>heart_disease</th>\n",
       "      <th>bmi</th>\n",
       "      <th>HbA1c_level</th>\n",
       "      <th>blood_glucose_level</th>\n",
       "      <th>gender_Male</th>\n",
       "      <th>gender_Other</th>\n",
       "      <th>smoking_history_current</th>\n",
       "      <th>smoking_history_ever</th>\n",
       "      <th>smoking_history_former</th>\n",
       "      <th>smoking_history_never</th>\n",
       "      <th>smoking_history_not current</th>\n",
       "    </tr>\n",
       "  </thead>\n",
       "  <tbody>\n",
       "    <tr>\n",
       "      <th>0</th>\n",
       "      <td>1.692704</td>\n",
       "      <td>0</td>\n",
       "      <td>1</td>\n",
       "      <td>-0.321056</td>\n",
       "      <td>1.001706</td>\n",
       "      <td>0.047704</td>\n",
       "      <td>0</td>\n",
       "      <td>0</td>\n",
       "      <td>0</td>\n",
       "      <td>0</td>\n",
       "      <td>0</td>\n",
       "      <td>1</td>\n",
       "      <td>0</td>\n",
       "    </tr>\n",
       "    <tr>\n",
       "      <th>1</th>\n",
       "      <td>0.538006</td>\n",
       "      <td>0</td>\n",
       "      <td>0</td>\n",
       "      <td>-0.000116</td>\n",
       "      <td>1.001706</td>\n",
       "      <td>-1.426210</td>\n",
       "      <td>0</td>\n",
       "      <td>0</td>\n",
       "      <td>0</td>\n",
       "      <td>0</td>\n",
       "      <td>0</td>\n",
       "      <td>0</td>\n",
       "      <td>0</td>\n",
       "    </tr>\n",
       "    <tr>\n",
       "      <th>2</th>\n",
       "      <td>-0.616691</td>\n",
       "      <td>0</td>\n",
       "      <td>0</td>\n",
       "      <td>-0.000116</td>\n",
       "      <td>0.161108</td>\n",
       "      <td>0.489878</td>\n",
       "      <td>1</td>\n",
       "      <td>0</td>\n",
       "      <td>0</td>\n",
       "      <td>0</td>\n",
       "      <td>0</td>\n",
       "      <td>1</td>\n",
       "      <td>0</td>\n",
       "    </tr>\n",
       "    <tr>\n",
       "      <th>3</th>\n",
       "      <td>-0.261399</td>\n",
       "      <td>0</td>\n",
       "      <td>0</td>\n",
       "      <td>-0.583232</td>\n",
       "      <td>-0.492690</td>\n",
       "      <td>0.416183</td>\n",
       "      <td>0</td>\n",
       "      <td>0</td>\n",
       "      <td>1</td>\n",
       "      <td>0</td>\n",
       "      <td>0</td>\n",
       "      <td>0</td>\n",
       "      <td>0</td>\n",
       "    </tr>\n",
       "    <tr>\n",
       "      <th>4</th>\n",
       "      <td>1.515058</td>\n",
       "      <td>1</td>\n",
       "      <td>1</td>\n",
       "      <td>-1.081970</td>\n",
       "      <td>-0.679490</td>\n",
       "      <td>0.416183</td>\n",
       "      <td>1</td>\n",
       "      <td>0</td>\n",
       "      <td>1</td>\n",
       "      <td>0</td>\n",
       "      <td>0</td>\n",
       "      <td>0</td>\n",
       "      <td>0</td>\n",
       "    </tr>\n",
       "  </tbody>\n",
       "</table>\n",
       "</div>"
      ],
      "text/plain": [
       "        age  hypertension  heart_disease       bmi  HbA1c_level  \\\n",
       "0  1.692704             0              1 -0.321056     1.001706   \n",
       "1  0.538006             0              0 -0.000116     1.001706   \n",
       "2 -0.616691             0              0 -0.000116     0.161108   \n",
       "3 -0.261399             0              0 -0.583232    -0.492690   \n",
       "4  1.515058             1              1 -1.081970    -0.679490   \n",
       "\n",
       "   blood_glucose_level  gender_Male  gender_Other  smoking_history_current  \\\n",
       "0             0.047704            0             0                        0   \n",
       "1            -1.426210            0             0                        0   \n",
       "2             0.489878            1             0                        0   \n",
       "3             0.416183            0             0                        1   \n",
       "4             0.416183            1             0                        1   \n",
       "\n",
       "   smoking_history_ever  smoking_history_former  smoking_history_never  \\\n",
       "0                     0                       0                      1   \n",
       "1                     0                       0                      0   \n",
       "2                     0                       0                      1   \n",
       "3                     0                       0                      0   \n",
       "4                     0                       0                      0   \n",
       "\n",
       "   smoking_history_not current  \n",
       "0                            0  \n",
       "1                            0  \n",
       "2                            0  \n",
       "3                            0  \n",
       "4                            0  "
      ]
     },
     "execution_count": 22,
     "metadata": {},
     "output_type": "execute_result"
    }
   ],
   "source": [
    "X.head()"
   ]
  },
  {
   "cell_type": "code",
   "execution_count": 23,
   "id": "f5930b15",
   "metadata": {
    "execution": {
     "iopub.execute_input": "2023-06-01T02:02:25.751019Z",
     "iopub.status.busy": "2023-06-01T02:02:25.750606Z",
     "iopub.status.idle": "2023-06-01T02:02:25.758918Z",
     "shell.execute_reply": "2023-06-01T02:02:25.757662Z"
    },
    "papermill": {
     "duration": 0.030427,
     "end_time": "2023-06-01T02:02:25.761420",
     "exception": false,
     "start_time": "2023-06-01T02:02:25.730993",
     "status": "completed"
    },
    "tags": []
   },
   "outputs": [
    {
     "data": {
      "text/plain": [
       "0    0\n",
       "1    0\n",
       "2    0\n",
       "3    0\n",
       "4    0\n",
       "Name: diabetes, dtype: int64"
      ]
     },
     "execution_count": 23,
     "metadata": {},
     "output_type": "execute_result"
    }
   ],
   "source": [
    "y.head()"
   ]
  },
  {
   "cell_type": "code",
   "execution_count": 24,
   "id": "0c94e44f",
   "metadata": {
    "execution": {
     "iopub.execute_input": "2023-06-01T02:02:25.799976Z",
     "iopub.status.busy": "2023-06-01T02:02:25.799595Z",
     "iopub.status.idle": "2023-06-01T02:02:25.957483Z",
     "shell.execute_reply": "2023-06-01T02:02:25.956029Z"
    },
    "papermill": {
     "duration": 0.180373,
     "end_time": "2023-06-01T02:02:25.960189",
     "exception": false,
     "start_time": "2023-06-01T02:02:25.779816",
     "status": "completed"
    },
    "tags": []
   },
   "outputs": [],
   "source": [
    "#split test and train data\n",
    "from sklearn.model_selection import train_test_split\n",
    "X_train, X_test, y_train, y_test = train_test_split(X, y, test_size=0.2, random_state=42)"
   ]
  },
  {
   "cell_type": "code",
   "execution_count": 25,
   "id": "1b94fb0d",
   "metadata": {
    "execution": {
     "iopub.execute_input": "2023-06-01T02:02:25.999733Z",
     "iopub.status.busy": "2023-06-01T02:02:25.999325Z",
     "iopub.status.idle": "2023-06-01T02:02:26.005928Z",
     "shell.execute_reply": "2023-06-01T02:02:26.004577Z"
    },
    "papermill": {
     "duration": 0.030108,
     "end_time": "2023-06-01T02:02:26.008771",
     "exception": false,
     "start_time": "2023-06-01T02:02:25.978663",
     "status": "completed"
    },
    "tags": []
   },
   "outputs": [
    {
     "name": "stdout",
     "output_type": "stream",
     "text": [
      "(80000, 13)\n",
      "(20000, 13)\n",
      "(80000,)\n",
      "(20000,)\n"
     ]
    }
   ],
   "source": [
    "print(X_train.shape)\n",
    "print(X_test.shape)\n",
    "print(y_train.shape)\n",
    "print(y_test.shape)"
   ]
  },
  {
   "cell_type": "code",
   "execution_count": 26,
   "id": "c320b8dc",
   "metadata": {
    "execution": {
     "iopub.execute_input": "2023-06-01T02:02:26.048813Z",
     "iopub.status.busy": "2023-06-01T02:02:26.048370Z",
     "iopub.status.idle": "2023-06-01T02:02:26.328065Z",
     "shell.execute_reply": "2023-06-01T02:02:26.327161Z"
    },
    "papermill": {
     "duration": 0.302875,
     "end_time": "2023-06-01T02:02:26.330609",
     "exception": false,
     "start_time": "2023-06-01T02:02:26.027734",
     "status": "completed"
    },
    "tags": []
   },
   "outputs": [
    {
     "data": {
      "text/html": [
       "<style>#sk-container-id-1 {color: black;background-color: white;}#sk-container-id-1 pre{padding: 0;}#sk-container-id-1 div.sk-toggleable {background-color: white;}#sk-container-id-1 label.sk-toggleable__label {cursor: pointer;display: block;width: 100%;margin-bottom: 0;padding: 0.3em;box-sizing: border-box;text-align: center;}#sk-container-id-1 label.sk-toggleable__label-arrow:before {content: \"▸\";float: left;margin-right: 0.25em;color: #696969;}#sk-container-id-1 label.sk-toggleable__label-arrow:hover:before {color: black;}#sk-container-id-1 div.sk-estimator:hover label.sk-toggleable__label-arrow:before {color: black;}#sk-container-id-1 div.sk-toggleable__content {max-height: 0;max-width: 0;overflow: hidden;text-align: left;background-color: #f0f8ff;}#sk-container-id-1 div.sk-toggleable__content pre {margin: 0.2em;color: black;border-radius: 0.25em;background-color: #f0f8ff;}#sk-container-id-1 input.sk-toggleable__control:checked~div.sk-toggleable__content {max-height: 200px;max-width: 100%;overflow: auto;}#sk-container-id-1 input.sk-toggleable__control:checked~label.sk-toggleable__label-arrow:before {content: \"▾\";}#sk-container-id-1 div.sk-estimator input.sk-toggleable__control:checked~label.sk-toggleable__label {background-color: #d4ebff;}#sk-container-id-1 div.sk-label input.sk-toggleable__control:checked~label.sk-toggleable__label {background-color: #d4ebff;}#sk-container-id-1 input.sk-hidden--visually {border: 0;clip: rect(1px 1px 1px 1px);clip: rect(1px, 1px, 1px, 1px);height: 1px;margin: -1px;overflow: hidden;padding: 0;position: absolute;width: 1px;}#sk-container-id-1 div.sk-estimator {font-family: monospace;background-color: #f0f8ff;border: 1px dotted black;border-radius: 0.25em;box-sizing: border-box;margin-bottom: 0.5em;}#sk-container-id-1 div.sk-estimator:hover {background-color: #d4ebff;}#sk-container-id-1 div.sk-parallel-item::after {content: \"\";width: 100%;border-bottom: 1px solid gray;flex-grow: 1;}#sk-container-id-1 div.sk-label:hover label.sk-toggleable__label {background-color: #d4ebff;}#sk-container-id-1 div.sk-serial::before {content: \"\";position: absolute;border-left: 1px solid gray;box-sizing: border-box;top: 0;bottom: 0;left: 50%;z-index: 0;}#sk-container-id-1 div.sk-serial {display: flex;flex-direction: column;align-items: center;background-color: white;padding-right: 0.2em;padding-left: 0.2em;position: relative;}#sk-container-id-1 div.sk-item {position: relative;z-index: 1;}#sk-container-id-1 div.sk-parallel {display: flex;align-items: stretch;justify-content: center;background-color: white;position: relative;}#sk-container-id-1 div.sk-item::before, #sk-container-id-1 div.sk-parallel-item::before {content: \"\";position: absolute;border-left: 1px solid gray;box-sizing: border-box;top: 0;bottom: 0;left: 50%;z-index: -1;}#sk-container-id-1 div.sk-parallel-item {display: flex;flex-direction: column;z-index: 1;position: relative;background-color: white;}#sk-container-id-1 div.sk-parallel-item:first-child::after {align-self: flex-end;width: 50%;}#sk-container-id-1 div.sk-parallel-item:last-child::after {align-self: flex-start;width: 50%;}#sk-container-id-1 div.sk-parallel-item:only-child::after {width: 0;}#sk-container-id-1 div.sk-dashed-wrapped {border: 1px dashed gray;margin: 0 0.4em 0.5em 0.4em;box-sizing: border-box;padding-bottom: 0.4em;background-color: white;}#sk-container-id-1 div.sk-label label {font-family: monospace;font-weight: bold;display: inline-block;line-height: 1.2em;}#sk-container-id-1 div.sk-label-container {text-align: center;}#sk-container-id-1 div.sk-container {/* jupyter's `normalize.less` sets `[hidden] { display: none; }` but bootstrap.min.css set `[hidden] { display: none !important; }` so we also need the `!important` here to be able to override the default hidden behavior on the sphinx rendered scikit-learn.org. See: https://github.com/scikit-learn/scikit-learn/issues/21755 */display: inline-block !important;position: relative;}#sk-container-id-1 div.sk-text-repr-fallback {display: none;}</style><div id=\"sk-container-id-1\" class=\"sk-top-container\"><div class=\"sk-text-repr-fallback\"><pre>SGDClassifier(random_state=42)</pre><b>In a Jupyter environment, please rerun this cell to show the HTML representation or trust the notebook. <br />On GitHub, the HTML representation is unable to render, please try loading this page with nbviewer.org.</b></div><div class=\"sk-container\" hidden><div class=\"sk-item\"><div class=\"sk-estimator sk-toggleable\"><input class=\"sk-toggleable__control sk-hidden--visually\" id=\"sk-estimator-id-1\" type=\"checkbox\" checked><label for=\"sk-estimator-id-1\" class=\"sk-toggleable__label sk-toggleable__label-arrow\">SGDClassifier</label><div class=\"sk-toggleable__content\"><pre>SGDClassifier(random_state=42)</pre></div></div></div></div></div>"
      ],
      "text/plain": [
       "SGDClassifier(random_state=42)"
      ]
     },
     "execution_count": 26,
     "metadata": {},
     "output_type": "execute_result"
    }
   ],
   "source": [
    "from sklearn.linear_model import SGDClassifier\n",
    "\n",
    "sgd_classifer = SGDClassifier(random_state=42)\n",
    "sgd_classifer.fit(X_train, y_train)"
   ]
  },
  {
   "cell_type": "code",
   "execution_count": 27,
   "id": "90a1000d",
   "metadata": {
    "execution": {
     "iopub.execute_input": "2023-06-01T02:02:26.371184Z",
     "iopub.status.busy": "2023-06-01T02:02:26.370761Z",
     "iopub.status.idle": "2023-06-01T02:02:26.384131Z",
     "shell.execute_reply": "2023-06-01T02:02:26.382358Z"
    },
    "papermill": {
     "duration": 0.038968,
     "end_time": "2023-06-01T02:02:26.388881",
     "exception": false,
     "start_time": "2023-06-01T02:02:26.349913",
     "status": "completed"
    },
    "tags": []
   },
   "outputs": [],
   "source": [
    "output = sgd_classifer.predict(X_test)"
   ]
  },
  {
   "cell_type": "code",
   "execution_count": 28,
   "id": "4f2f41d9",
   "metadata": {
    "execution": {
     "iopub.execute_input": "2023-06-01T02:02:26.472663Z",
     "iopub.status.busy": "2023-06-01T02:02:26.471956Z",
     "iopub.status.idle": "2023-06-01T02:02:26.481892Z",
     "shell.execute_reply": "2023-06-01T02:02:26.480590Z"
    },
    "papermill": {
     "duration": 0.056873,
     "end_time": "2023-06-01T02:02:26.485674",
     "exception": false,
     "start_time": "2023-06-01T02:02:26.428801",
     "status": "completed"
    },
    "tags": []
   },
   "outputs": [
    {
     "data": {
      "text/plain": [
       "True"
      ]
     },
     "execution_count": 28,
     "metadata": {},
     "output_type": "execute_result"
    }
   ],
   "source": [
    "#measure accuracy\n",
    "contains_one = np.any(output == 1)\n",
    "contains_one"
   ]
  },
  {
   "cell_type": "code",
   "execution_count": 29,
   "id": "ee13784e",
   "metadata": {
    "execution": {
     "iopub.execute_input": "2023-06-01T02:02:26.533310Z",
     "iopub.status.busy": "2023-06-01T02:02:26.532891Z",
     "iopub.status.idle": "2023-06-01T02:02:26.540491Z",
     "shell.execute_reply": "2023-06-01T02:02:26.539344Z"
    },
    "papermill": {
     "duration": 0.030352,
     "end_time": "2023-06-01T02:02:26.542943",
     "exception": false,
     "start_time": "2023-06-01T02:02:26.512591",
     "status": "completed"
    },
    "tags": []
   },
   "outputs": [
    {
     "data": {
      "text/plain": [
       "5"
      ]
     },
     "execution_count": 29,
     "metadata": {},
     "output_type": "execute_result"
    }
   ],
   "source": [
    "index_of_one = np.where(output == 1)[0][0]\n",
    "index_of_one"
   ]
  },
  {
   "cell_type": "code",
   "execution_count": 30,
   "id": "0de60033",
   "metadata": {
    "execution": {
     "iopub.execute_input": "2023-06-01T02:02:26.583775Z",
     "iopub.status.busy": "2023-06-01T02:02:26.582884Z",
     "iopub.status.idle": "2023-06-01T02:02:26.590497Z",
     "shell.execute_reply": "2023-06-01T02:02:26.589429Z"
    },
    "papermill": {
     "duration": 0.030678,
     "end_time": "2023-06-01T02:02:26.592851",
     "exception": false,
     "start_time": "2023-06-01T02:02:26.562173",
     "status": "completed"
    },
    "tags": []
   },
   "outputs": [
    {
     "data": {
      "text/plain": [
       "array([0, 0, 0, 0, 0, 1, 0, 0, 0, 0, 0, 0, 0, 0, 0, 0, 0, 0, 0, 0, 0, 0,\n",
       "       0, 0, 0, 0, 0, 0, 0, 0, 0, 0, 0, 0, 0, 0, 0, 0, 0, 0, 0, 0, 0, 0,\n",
       "       1, 0, 0, 0, 0, 0])"
      ]
     },
     "execution_count": 30,
     "metadata": {},
     "output_type": "execute_result"
    }
   ],
   "source": [
    "output[0:50]"
   ]
  },
  {
   "cell_type": "code",
   "execution_count": 31,
   "id": "61dda9d6",
   "metadata": {
    "execution": {
     "iopub.execute_input": "2023-06-01T02:02:26.633413Z",
     "iopub.status.busy": "2023-06-01T02:02:26.632581Z",
     "iopub.status.idle": "2023-06-01T02:02:26.640989Z",
     "shell.execute_reply": "2023-06-01T02:02:26.639974Z"
    },
    "papermill": {
     "duration": 0.031577,
     "end_time": "2023-06-01T02:02:26.643411",
     "exception": false,
     "start_time": "2023-06-01T02:02:26.611834",
     "status": "completed"
    },
    "tags": []
   },
   "outputs": [
    {
     "data": {
      "text/plain": [
       "75721    0\n",
       "80184    0\n",
       "19864    0\n",
       "76699    0\n",
       "92991    1\n",
       "76434    0\n",
       "84004    0\n",
       "80917    0\n",
       "60767    0\n",
       "50074    0\n",
       "Name: diabetes, dtype: int64"
      ]
     },
     "execution_count": 31,
     "metadata": {},
     "output_type": "execute_result"
    }
   ],
   "source": [
    "y_test.head(10)"
   ]
  },
  {
   "cell_type": "code",
   "execution_count": 32,
   "id": "4ce7319b",
   "metadata": {
    "execution": {
     "iopub.execute_input": "2023-06-01T02:02:26.684509Z",
     "iopub.status.busy": "2023-06-01T02:02:26.683660Z",
     "iopub.status.idle": "2023-06-01T02:02:27.212716Z",
     "shell.execute_reply": "2023-06-01T02:02:27.210878Z"
    },
    "papermill": {
     "duration": 0.554367,
     "end_time": "2023-06-01T02:02:27.217074",
     "exception": false,
     "start_time": "2023-06-01T02:02:26.662707",
     "status": "completed"
    },
    "tags": []
   },
   "outputs": [
    {
     "data": {
      "text/plain": [
       "array([0.95946301, 0.96265047, 0.95923648])"
      ]
     },
     "execution_count": 32,
     "metadata": {},
     "output_type": "execute_result"
    }
   ],
   "source": [
    "### performance measure via cross_val_score\n",
    "from sklearn.model_selection import cross_val_score\n",
    "cross_val_score(sgd_classifer, X_train, y_train, cv=3, scoring=\"accuracy\")"
   ]
  },
  {
   "cell_type": "code",
   "execution_count": 33,
   "id": "03afbe46",
   "metadata": {
    "execution": {
     "iopub.execute_input": "2023-06-01T02:02:27.302025Z",
     "iopub.status.busy": "2023-06-01T02:02:27.301349Z",
     "iopub.status.idle": "2023-06-01T02:02:27.767136Z",
     "shell.execute_reply": "2023-06-01T02:02:27.765569Z"
    },
    "papermill": {
     "duration": 0.513043,
     "end_time": "2023-06-01T02:02:27.771395",
     "exception": false,
     "start_time": "2023-06-01T02:02:27.258352",
     "status": "completed"
    },
    "tags": []
   },
   "outputs": [],
   "source": [
    "### performance measure via confusion matrix\n",
    "from sklearn.model_selection import cross_val_predict\n",
    "y_train_predict = cross_val_predict(sgd_classifer, X_train, y_train, cv=3)"
   ]
  },
  {
   "cell_type": "code",
   "execution_count": 34,
   "id": "afa4132b",
   "metadata": {
    "execution": {
     "iopub.execute_input": "2023-06-01T02:02:27.855808Z",
     "iopub.status.busy": "2023-06-01T02:02:27.855091Z",
     "iopub.status.idle": "2023-06-01T02:02:27.888879Z",
     "shell.execute_reply": "2023-06-01T02:02:27.887536Z"
    },
    "papermill": {
     "duration": 0.079429,
     "end_time": "2023-06-01T02:02:27.891566",
     "exception": false,
     "start_time": "2023-06-01T02:02:27.812137",
     "status": "completed"
    },
    "tags": []
   },
   "outputs": [
    {
     "data": {
      "text/plain": [
       "array([[72777,   431],\n",
       "       [ 2733,  4059]])"
      ]
     },
     "execution_count": 34,
     "metadata": {},
     "output_type": "execute_result"
    }
   ],
   "source": [
    "### confusion matrix\n",
    "from sklearn.metrics import confusion_matrix\n",
    "cm = confusion_matrix(y_train, y_train_predict)\n",
    "cm"
   ]
  },
  {
   "cell_type": "code",
   "execution_count": 35,
   "id": "04ea0f02",
   "metadata": {
    "execution": {
     "iopub.execute_input": "2023-06-01T02:02:27.935440Z",
     "iopub.status.busy": "2023-06-01T02:02:27.934564Z",
     "iopub.status.idle": "2023-06-01T02:02:27.943055Z",
     "shell.execute_reply": "2023-06-01T02:02:27.941807Z"
    },
    "papermill": {
     "duration": 0.033953,
     "end_time": "2023-06-01T02:02:27.945515",
     "exception": false,
     "start_time": "2023-06-01T02:02:27.911562",
     "status": "completed"
    },
    "tags": []
   },
   "outputs": [
    {
     "data": {
      "text/plain": [
       "0.9040089086859688"
      ]
     },
     "execution_count": 35,
     "metadata": {},
     "output_type": "execute_result"
    }
   ],
   "source": [
    "### precision from confusion matrix\n",
    "precision = cm[1,1]/(cm[1,1]+cm[0,1])\n",
    "precision"
   ]
  },
  {
   "cell_type": "code",
   "execution_count": 36,
   "id": "89ffc9cb",
   "metadata": {
    "execution": {
     "iopub.execute_input": "2023-06-01T02:02:27.987088Z",
     "iopub.status.busy": "2023-06-01T02:02:27.986686Z",
     "iopub.status.idle": "2023-06-01T02:02:27.994750Z",
     "shell.execute_reply": "2023-06-01T02:02:27.993438Z"
    },
    "papermill": {
     "duration": 0.031919,
     "end_time": "2023-06-01T02:02:27.997300",
     "exception": false,
     "start_time": "2023-06-01T02:02:27.965381",
     "status": "completed"
    },
    "tags": []
   },
   "outputs": [
    {
     "data": {
      "text/plain": [
       "0.5976148409893993"
      ]
     },
     "execution_count": 36,
     "metadata": {},
     "output_type": "execute_result"
    }
   ],
   "source": [
    "### recall from confusion matrix\n",
    "recall = cm[1,1]/(cm[1,1]+cm[1,0])\n",
    "recall"
   ]
  },
  {
   "cell_type": "code",
   "execution_count": 37,
   "id": "261c0411",
   "metadata": {
    "execution": {
     "iopub.execute_input": "2023-06-01T02:02:28.039643Z",
     "iopub.status.busy": "2023-06-01T02:02:28.039208Z",
     "iopub.status.idle": "2023-06-01T02:02:28.098012Z",
     "shell.execute_reply": "2023-06-01T02:02:28.096812Z"
    },
    "papermill": {
     "duration": 0.083023,
     "end_time": "2023-06-01T02:02:28.100260",
     "exception": false,
     "start_time": "2023-06-01T02:02:28.017237",
     "status": "completed"
    },
    "tags": []
   },
   "outputs": [
    {
     "name": "stdout",
     "output_type": "stream",
     "text": [
      "0.9040089086859688\n",
      "0.5976148409893993\n"
     ]
    }
   ],
   "source": [
    "#precision and recall\n",
    "from sklearn.metrics import precision_score, recall_score\n",
    "print(precision_score(y_train, y_train_predict))\n",
    "print(recall_score(y_train, y_train_predict))"
   ]
  },
  {
   "cell_type": "code",
   "execution_count": 38,
   "id": "a6b66143",
   "metadata": {
    "execution": {
     "iopub.execute_input": "2023-06-01T02:02:28.142261Z",
     "iopub.status.busy": "2023-06-01T02:02:28.141842Z",
     "iopub.status.idle": "2023-06-01T02:02:28.692376Z",
     "shell.execute_reply": "2023-06-01T02:02:28.690681Z"
    },
    "papermill": {
     "duration": 0.578032,
     "end_time": "2023-06-01T02:02:28.698368",
     "exception": false,
     "start_time": "2023-06-01T02:02:28.120336",
     "status": "completed"
    },
    "tags": []
   },
   "outputs": [
    {
     "data": {
      "text/plain": [
       "array([-5.93484656, -1.79362941, -4.43721639, ..., -3.34426608,\n",
       "       -1.79918852, -3.14486677])"
      ]
     },
     "execution_count": 38,
     "metadata": {},
     "output_type": "execute_result"
    }
   ],
   "source": [
    "### precision score\n",
    "y_train_score = cross_val_predict(sgd_classifer, X_train, y_train, cv=3, method=\"decision_function\")\n",
    "y_train_score"
   ]
  },
  {
   "cell_type": "code",
   "execution_count": 39,
   "id": "80592103",
   "metadata": {
    "execution": {
     "iopub.execute_input": "2023-06-01T02:02:28.777094Z",
     "iopub.status.busy": "2023-06-01T02:02:28.776697Z",
     "iopub.status.idle": "2023-06-01T02:02:29.312012Z",
     "shell.execute_reply": "2023-06-01T02:02:29.310614Z"
    },
    "papermill": {
     "duration": 0.573364,
     "end_time": "2023-06-01T02:02:29.315019",
     "exception": false,
     "start_time": "2023-06-01T02:02:28.741655",
     "status": "completed"
    },
    "tags": []
   },
   "outputs": [
    {
     "data": {
      "text/plain": [
       "0.9518"
      ]
     },
     "execution_count": 39,
     "metadata": {},
     "output_type": "execute_result"
    }
   ],
   "source": [
    "### decision tree classifer\n",
    "from sklearn.tree import DecisionTreeClassifier\n",
    "\n",
    "decision_tree_cls = DecisionTreeClassifier()\n",
    "decision_tree_cls.fit(X_train, y_train);\n",
    "decision_tree_cls.score(X_test, y_test)"
   ]
  },
  {
   "cell_type": "code",
   "execution_count": 40,
   "id": "6b6e9e9f",
   "metadata": {
    "execution": {
     "iopub.execute_input": "2023-06-01T02:02:29.359882Z",
     "iopub.status.busy": "2023-06-01T02:02:29.359239Z",
     "iopub.status.idle": "2023-06-01T02:07:44.874675Z",
     "shell.execute_reply": "2023-06-01T02:07:44.873004Z"
    },
    "papermill": {
     "duration": 315.542745,
     "end_time": "2023-06-01T02:07:44.879203",
     "exception": false,
     "start_time": "2023-06-01T02:02:29.336458",
     "status": "completed"
    },
    "tags": []
   },
   "outputs": [
    {
     "name": "stdout",
     "output_type": "stream",
     "text": [
      "DecisionTreeClassifier starting\n",
      "DecisionTreeClassifier finishing\n",
      "ExtraTreeClassifier starting\n",
      "ExtraTreeClassifier finishing\n",
      "ExtraTreesClassifier starting\n",
      "ExtraTreesClassifier finishing\n",
      "KNeighborsClassifier3 starting\n",
      "KNeighborsClassifier3 finishing\n",
      "RadiusNeighborsClassifier starting\n",
      "RandomForestClassifier2 starting\n",
      "RandomForestClassifier2 finishing\n",
      "RidgeClassifier starting\n",
      "RidgeClassifier finishing\n",
      "RidgeClassifierCV starting\n",
      "RidgeClassifierCV finishing\n",
      "BernoulliNB starting\n",
      "BernoulliNB finishing\n",
      "GaussianNB starting\n",
      "GaussianNB finishing\n",
      "LinearDiscriminantAnalysis starting\n",
      "LinearDiscriminantAnalysis finishing\n",
      "LinearSVC starting\n"
     ]
    },
    {
     "name": "stderr",
     "output_type": "stream",
     "text": [
      "/opt/conda/lib/python3.10/site-packages/sklearn/svm/_base.py:1244: ConvergenceWarning: Liblinear failed to converge, increase the number of iterations.\n",
      "  warnings.warn(\n",
      "/opt/conda/lib/python3.10/site-packages/sklearn/svm/_base.py:1244: ConvergenceWarning: Liblinear failed to converge, increase the number of iterations.\n",
      "  warnings.warn(\n",
      "/opt/conda/lib/python3.10/site-packages/sklearn/svm/_base.py:1244: ConvergenceWarning: Liblinear failed to converge, increase the number of iterations.\n",
      "  warnings.warn(\n"
     ]
    },
    {
     "name": "stdout",
     "output_type": "stream",
     "text": [
      "LinearSVC finishing\n",
      "LogisticRegression starting\n",
      "LogisticRegression finishing\n",
      "LogisticRegressionCV starting\n",
      "LogisticRegressionCV finishing\n",
      "NearestCentroid starting\n",
      "NearestCentroid finishing\n",
      "QuadraticDiscriminantAnalysis starting\n"
     ]
    },
    {
     "name": "stderr",
     "output_type": "stream",
     "text": [
      "/opt/conda/lib/python3.10/site-packages/sklearn/discriminant_analysis.py:926: UserWarning: Variables are collinear\n",
      "  warnings.warn(\"Variables are collinear\")\n",
      "/opt/conda/lib/python3.10/site-packages/sklearn/discriminant_analysis.py:926: UserWarning: Variables are collinear\n",
      "  warnings.warn(\"Variables are collinear\")\n",
      "/opt/conda/lib/python3.10/site-packages/sklearn/discriminant_analysis.py:926: UserWarning: Variables are collinear\n",
      "  warnings.warn(\"Variables are collinear\")\n"
     ]
    },
    {
     "name": "stdout",
     "output_type": "stream",
     "text": [
      "QuadraticDiscriminantAnalysis finishing\n",
      "NuSVC starting\n",
      "SVC starting\n",
      "SVC finishing\n",
      "GradientBoostingClassifier starting\n",
      "GradientBoostingClassifier finishing\n",
      "SGDClassifier starting\n",
      "SGDClassifier finishing\n",
      "Perceptron starting\n",
      "Perceptron finishing\n",
      "PassiveAgressiveClassifier starting\n",
      "PassiveAgressiveClassifier finishing\n"
     ]
    }
   ],
   "source": [
    "from sklearn.tree import DecisionTreeClassifier\n",
    "from sklearn.ensemble import BaggingClassifier\n",
    "from sklearn.tree import ExtraTreeClassifier\n",
    "from sklearn.ensemble import ExtraTreesClassifier\n",
    "from sklearn.neighbors import KNeighborsClassifier\n",
    "from sklearn.neural_network import MLPClassifier\n",
    "from sklearn.neighbors import RadiusNeighborsClassifier\n",
    "from sklearn.ensemble import RandomForestClassifier\n",
    "from sklearn.linear_model import RidgeClassifier\n",
    "from sklearn.linear_model import RidgeClassifierCV\n",
    "from sklearn.preprocessing import StandardScaler\n",
    "from sklearn.pipeline import make_pipeline\n",
    "import matplotlib as mpl\n",
    "import matplotlib.pyplot as plt\n",
    "from sklearn.naive_bayes import BernoulliNB\n",
    "from sklearn.naive_bayes import GaussianNB\n",
    "from sklearn.semi_supervised import LabelPropagation\n",
    "from sklearn.semi_supervised import LabelSpreading\n",
    "from sklearn.discriminant_analysis import LinearDiscriminantAnalysis\n",
    "from sklearn.svm import LinearSVC\n",
    "from sklearn.linear_model import LogisticRegression\n",
    "from sklearn.linear_model import LogisticRegressionCV\n",
    "from sklearn.neighbors import NearestCentroid\n",
    "from sklearn.discriminant_analysis import QuadraticDiscriminantAnalysis\n",
    "from sklearn.neighbors import RadiusNeighborsClassifier\n",
    "from sklearn.svm import NuSVC\n",
    "from sklearn.svm import SVC\n",
    "from sklearn.gaussian_process import GaussianProcessClassifier\n",
    "from sklearn.gaussian_process.kernels import RBF\n",
    "from sklearn.ensemble import GradientBoostingClassifier\n",
    "from sklearn.gaussian_process import GaussianProcessClassifier\n",
    "from sklearn.linear_model import SGDClassifier\n",
    "from sklearn.linear_model import Perceptron\n",
    "from sklearn.linear_model import PassiveAggressiveClassifier\n",
    "\n",
    "classifiers = {\n",
    "    \"DecisionTreeClassifier\": DecisionTreeClassifier(),\n",
    "    \"ExtraTreeClassifier\": BaggingClassifier(ExtraTreeClassifier()),\n",
    "    \"ExtraTreesClassifier\": ExtraTreesClassifier(n_estimators=100, random_state=0),\n",
    "    \"KNeighborsClassifier3\": KNeighborsClassifier(n_neighbors=3),\n",
    "    #\"MLPClassifier\": MLPClassifier(),\n",
    "    \"RadiusNeighborsClassifier\": RadiusNeighborsClassifier(radius=50.0),\n",
    "    \"RandomForestClassifier2\": RandomForestClassifier(max_depth=2, random_state=0),\n",
    "    \"RidgeClassifier\": RidgeClassifier(),\n",
    "    \"RidgeClassifierCV\": RidgeClassifierCV(alphas=[1e-3, 1e-2, 1e-1, 1]),\n",
    "    \"BernoulliNB\": BernoulliNB(force_alpha=True),\n",
    "    \"GaussianNB\":GaussianNB(),\n",
    "    #\"LabelPropagation\":LabelPropagation(),\n",
    "    #\"LabelSpreading\":LabelSpreading(),\n",
    "    \"LinearDiscriminantAnalysis\":LinearDiscriminantAnalysis(),\n",
    "    \"LinearSVC\":make_pipeline(StandardScaler(), LinearSVC(random_state=0, tol=1e-5)),\n",
    "    \"LogisticRegression\": LogisticRegression(random_state=0),\n",
    "    \"LogisticRegressionCV\":LogisticRegressionCV(cv=5, random_state=0),\n",
    "    \"NearestCentroid\": NearestCentroid(),\n",
    "    \"QuadraticDiscriminantAnalysis\": QuadraticDiscriminantAnalysis(),\n",
    "    \"RadiusNeighborsClassifier\":RadiusNeighborsClassifier(radius=1.0),\n",
    "    \"NuSVC\":make_pipeline(StandardScaler(), NuSVC()),\n",
    "    \"SVC\": make_pipeline(StandardScaler(), SVC(gamma='auto')),\n",
    "    #\"GaussianProcessClassifier\":GaussianProcessClassifier(kernel=1.0 * RBF(1.0)),\n",
    "    \"GradientBoostingClassifier\": GradientBoostingClassifier(n_estimators=100, learning_rate=1.0,max_depth=1, random_state=0),\n",
    "    #\"GaussianProcessClassifier\": GaussianProcessClassifier(kernel=1.0 * RBF(1.0)),\n",
    "    \"SGDClassifier\": make_pipeline(StandardScaler(),SGDClassifier(tol=1e-3)),\n",
    "    \"Perceptron\":  Perceptron(tol=1e-3, random_state=0),\n",
    "    \"PassiveAgressiveClassifier\":  PassiveAggressiveClassifier(random_state=0,tol=1e-3),\n",
    "    #\"GaussianProcess1v1\": GaussianProcessClassifier(kernel=1.0 * RBF(1.0), multi_class = \"one_vs_one\", random_state=0),\n",
    "    \n",
    "}\n",
    "\n",
    "scorenames={}\n",
    "\n",
    "for name, clf in zip(list(classifiers.keys()), list(classifiers.values())):\n",
    "    print(name, \"starting\")\n",
    "    skip = False\n",
    "    scores = []\n",
    "    for i in range(3):\n",
    "        try:\n",
    "            clf.fit(X_train, y_train)\n",
    "            scores.append(clf.score(X_test, y_test))\n",
    "        except:\n",
    "            skip=True\n",
    "    if skip == True: continue\n",
    "    score = 0\n",
    "    for onescore in scores:\n",
    "        score += onescore\n",
    "    score = score / 3\n",
    "    scorenames[name] = score\n",
    "    print(name, \"finishing\")"
   ]
  },
  {
   "cell_type": "code",
   "execution_count": 41,
   "id": "5e4ce325",
   "metadata": {
    "execution": {
     "iopub.execute_input": "2023-06-01T02:07:44.977243Z",
     "iopub.status.busy": "2023-06-01T02:07:44.976485Z",
     "iopub.status.idle": "2023-06-01T02:07:44.987119Z",
     "shell.execute_reply": "2023-06-01T02:07:44.986096Z"
    },
    "papermill": {
     "duration": 0.062496,
     "end_time": "2023-06-01T02:07:44.989207",
     "exception": false,
     "start_time": "2023-06-01T02:07:44.926711",
     "status": "completed"
    },
    "tags": []
   },
   "outputs": [
    {
     "data": {
      "text/plain": [
       "dict_values([0.9523666666666667, 0.9661333333333334, 0.9671499999999998, 0.9585, 0.9364, 0.9386, 0.9386, 0.91675, 0.63015, 0.95635, 0.95945, 0.95905, 0.95865, 0.89905, 0.61745, 0.96135, 0.97235, 0.9585833333333333, 0.94325, 0.94575])"
      ]
     },
     "execution_count": 41,
     "metadata": {},
     "output_type": "execute_result"
    }
   ],
   "source": [
    "scorenames.values()"
   ]
  },
  {
   "cell_type": "code",
   "execution_count": 42,
   "id": "a8591bcc",
   "metadata": {
    "execution": {
     "iopub.execute_input": "2023-06-01T02:07:45.036397Z",
     "iopub.status.busy": "2023-06-01T02:07:45.035941Z",
     "iopub.status.idle": "2023-06-01T02:07:45.391161Z",
     "shell.execute_reply": "2023-06-01T02:07:45.389912Z"
    },
    "papermill": {
     "duration": 0.38196,
     "end_time": "2023-06-01T02:07:45.393753",
     "exception": false,
     "start_time": "2023-06-01T02:07:45.011793",
     "status": "completed"
    },
    "tags": []
   },
   "outputs": [
    {
     "data": {
      "image/png": "[encoded data removed]",
      "text/plain": [
       "<Figure size 1000x700 with 1 Axes>"
      ]
     },
     "metadata": {},
     "output_type": "display_data"
    }
   ],
   "source": [
    "from matplotlib import pyplot as plt\n",
    " \n",
    "fig = plt.figure(figsize =(10, 7))\n",
    " \n",
    "# Horizontal Bar Plot\n",
    "plt.bar(scorenames.keys(), scorenames.values())\n",
    "plt.xticks(rotation=45, ha='right')\n",
    " \n",
    "# Show Plot\n",
    "plt.show()"
   ]
  }
 ],
 "metadata": {
  "kernelspec": {
   "display_name": "Python 3",
   "language": "python",
   "name": "python3"
  },
  "language_info": {
   "codemirror_mode": {
    "name": "ipython",
    "version": 3
   },
   "file_extension": ".py",
   "mimetype": "text/x-python",
   "name": "python",
   "nbconvert_exporter": "python",
   "pygments_lexer": "ipython3",
   "version": "3.10.10"
  },
  "papermill": {
   "default_parameters": {},
   "duration": 341.047081,
   "end_time": "2023-06-01T02:07:46.544046",
   "environment_variables": {},
   "exception": null,
   "input_path": "__notebook__.ipynb",
   "output_path": "__notebook__.ipynb",
   "parameters": {},
   "start_time": "2023-06-01T02:02:05.496965",
   "version": "2.4.0"
  }
 },
 "nbformat": 4,
 "nbformat_minor": 5
}
