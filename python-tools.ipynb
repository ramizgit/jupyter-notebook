{
 "cells": [
  {
   "cell_type": "markdown",
   "id": "53d685cb",
   "metadata": {},
   "source": [
    "# Python tools\n",
    "\n",
    "### Pandas\n",
    "\n",
    "### Numpy\n",
    "\n",
    "### SciPy\n",
    "\n",
    "### Matplotlib\n",
    "\n",
    "#### Scikit-learn\n"
   ]
  }
 ],
 "metadata": {
  "kernelspec": {
   "display_name": "Python 3 (ipykernel)",
   "language": "python",
   "name": "python3"
  },
  "language_info": {
   "codemirror_mode": {
    "name": "ipython",
    "version": 3
   },
   "file_extension": ".py",
   "mimetype": "text/x-python",
   "name": "python",
   "nbconvert_exporter": "python",
   "pygments_lexer": "ipython3",
   "version": "3.10.9"
  }
 },
 "nbformat": 4,
 "nbformat_minor": 5
}
