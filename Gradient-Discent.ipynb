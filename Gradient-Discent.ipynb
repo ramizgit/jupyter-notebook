{
 "cells": [
  {
   "cell_type": "code",
   "execution_count": 23,
   "id": "307ad27f",
   "metadata": {},
   "outputs": [],
   "source": [
    "import numpy as np\n",
    "\n",
    "np.random.seed(42)  # to make this code example reproducible\n",
    "m = 100  # number of instances\n",
    "X = 2 * np.random.rand(m, 1)  # column vector\n",
    "y = 4 + 3 * X + np.random.randn(m, 1)  # column vector"
   ]
  },
  {
   "cell_type": "code",
   "execution_count": 24,
   "id": "ca871d83",
   "metadata": {},
   "outputs": [
    {
     "data": {
      "image/png": "[encoded data removed]",
      "text/plain": [
       "<Figure size 600x400 with 1 Axes>"
      ]
     },
     "metadata": {},
     "output_type": "display_data"
    }
   ],
   "source": [
    "import matplotlib.pyplot as plt\n",
    "\n",
    "plt.figure(figsize=(6, 4))\n",
    "plt.plot(X, y, \"b.\")\n",
    "plt.xlabel(\"$x_1$\")\n",
    "plt.ylabel(\"$y$\", rotation=0)\n",
    "plt.axis([0, 2, 0, 15])\n",
    "plt.grid()\n",
    "plt.show()"
   ]
  },
  {
   "cell_type": "code",
   "execution_count": 25,
   "id": "d6dbf76e",
   "metadata": {},
   "outputs": [
    {
     "data": {
      "text/plain": [
       "array([[0.74908024],\n",
       "       [1.90142861],\n",
       "       [1.46398788],\n",
       "       [1.19731697],\n",
       "       [0.31203728],\n",
       "       [0.31198904],\n",
       "       [0.11616722],\n",
       "       [1.73235229],\n",
       "       [1.20223002],\n",
       "       [1.41614516]])"
      ]
     },
     "execution_count": 25,
     "metadata": {},
     "output_type": "execute_result"
    }
   ],
   "source": [
    "X[:10]"
   ]
  },
  {
   "cell_type": "code",
   "execution_count": 26,
   "id": "09db9f7f",
   "metadata": {},
   "outputs": [
    {
     "data": {
      "text/plain": [
       "array([[6.33428778],\n",
       "       [9.40527849],\n",
       "       [8.48372443],\n",
       "       [5.60438199],\n",
       "       [4.71643995],\n",
       "       [5.29307969],\n",
       "       [5.82639572],\n",
       "       [8.67878666],\n",
       "       [6.79819647],\n",
       "       [7.74667842]])"
      ]
     },
     "execution_count": 26,
     "metadata": {},
     "output_type": "execute_result"
    }
   ],
   "source": [
    "y[:10]"
   ]
  },
  {
   "cell_type": "code",
   "execution_count": 27,
   "id": "035c69dc",
   "metadata": {},
   "outputs": [
    {
     "data": {
      "text/plain": [
       "array([[1.        , 0.74908024],\n",
       "       [1.        , 1.90142861],\n",
       "       [1.        , 1.46398788],\n",
       "       [1.        , 1.19731697],\n",
       "       [1.        , 0.31203728],\n",
       "       [1.        , 0.31198904],\n",
       "       [1.        , 0.11616722],\n",
       "       [1.        , 1.73235229],\n",
       "       [1.        , 1.20223002],\n",
       "       [1.        , 1.41614516]])"
      ]
     },
     "execution_count": 27,
     "metadata": {},
     "output_type": "execute_result"
    }
   ],
   "source": [
    "from sklearn.preprocessing import add_dummy_feature\n",
    "X_b = add_dummy_feature(X)\n",
    "X_b[:10]"
   ]
  },
  {
   "cell_type": "code",
   "execution_count": 32,
   "id": "ae37ec3d",
   "metadata": {},
   "outputs": [
    {
     "data": {
      "text/plain": [
       "(100, 2)"
      ]
     },
     "execution_count": 32,
     "metadata": {},
     "output_type": "execute_result"
    }
   ],
   "source": [
    "X_b.shape"
   ]
  },
  {
   "cell_type": "code",
   "execution_count": 43,
   "id": "8c06d98d",
   "metadata": {},
   "outputs": [
    {
     "data": {
      "text/plain": [
       "array([[1.        , 1.        , 1.        , 1.        , 1.        ,\n",
       "        1.        , 1.        , 1.        , 1.        , 1.        ,\n",
       "        1.        , 1.        , 1.        , 1.        , 1.        ,\n",
       "        1.        , 1.        , 1.        , 1.        , 1.        ,\n",
       "        1.        , 1.        , 1.        , 1.        , 1.        ,\n",
       "        1.        , 1.        , 1.        , 1.        , 1.        ,\n",
       "        1.        , 1.        , 1.        , 1.        , 1.        ,\n",
       "        1.        , 1.        , 1.        , 1.        , 1.        ,\n",
       "        1.        , 1.        , 1.        , 1.        , 1.        ,\n",
       "        1.        , 1.        , 1.        , 1.        , 1.        ,\n",
       "        1.        , 1.        , 1.        , 1.        , 1.        ,\n",
       "        1.        , 1.        , 1.        , 1.        , 1.        ,\n",
       "        1.        , 1.        , 1.        , 1.        , 1.        ,\n",
       "        1.        , 1.        , 1.        , 1.        , 1.        ,\n",
       "        1.        , 1.        , 1.        , 1.        , 1.        ,\n",
       "        1.        , 1.        , 1.        , 1.        , 1.        ,\n",
       "        1.        , 1.        , 1.        , 1.        , 1.        ,\n",
       "        1.        , 1.        , 1.        , 1.        , 1.        ,\n",
       "        1.        , 1.        , 1.        , 1.        , 1.        ,\n",
       "        1.        , 1.        , 1.        , 1.        , 1.        ],\n",
       "       [0.74908024, 1.90142861, 1.46398788, 1.19731697, 0.31203728,\n",
       "        0.31198904, 0.11616722, 1.73235229, 1.20223002, 1.41614516,\n",
       "        0.04116899, 1.9398197 , 1.66488528, 0.42467822, 0.36364993,\n",
       "        0.36680902, 0.60848449, 1.04951286, 0.86389004, 0.58245828,\n",
       "        1.22370579, 0.27898772, 0.5842893 , 0.73272369, 0.91213997,\n",
       "        1.57035192, 0.39934756, 1.02846888, 1.18482914, 0.09290083,\n",
       "        1.2150897 , 0.34104825, 0.13010319, 1.89777107, 1.93126407,\n",
       "        1.6167947 , 0.60922754, 0.19534423, 1.36846605, 0.88030499,\n",
       "        0.24407647, 0.99035382, 0.06877704, 1.8186408 , 0.51755996,\n",
       "        1.32504457, 0.62342215, 1.04013604, 1.09342056, 0.36970891,\n",
       "        1.93916926, 1.55026565, 1.87899788, 1.7896547 , 1.19579996,\n",
       "        1.84374847, 0.176985  , 0.39196572, 0.09045458, 0.65066066,\n",
       "        0.77735458, 0.54269806, 1.65747502, 0.71350665, 0.56186902,\n",
       "        1.08539217, 0.28184845, 1.60439396, 0.14910129, 1.97377387,\n",
       "        1.54448954, 0.39743136, 0.01104423, 1.63092286, 1.41371469,\n",
       "        1.45801434, 1.54254069, 0.1480893 , 0.71693146, 0.23173812,\n",
       "        1.72620685, 1.24659625, 0.66179605, 0.1271167 , 0.62196464,\n",
       "        0.65036664, 1.45921236, 1.27511494, 1.77442549, 0.94442985,\n",
       "        0.23918849, 1.42648957, 1.5215701 , 1.1225544 , 1.54193436,\n",
       "        0.98759119, 1.04546566, 0.85508204, 0.05083825, 0.21578285]])"
      ]
     },
     "execution_count": 43,
     "metadata": {},
     "output_type": "execute_result"
    }
   ],
   "source": [
    "X_b.T"
   ]
  },
  {
   "cell_type": "code",
   "execution_count": 33,
   "id": "54a3fe2f",
   "metadata": {},
   "outputs": [
    {
     "data": {
      "text/plain": [
       "(2, 100)"
      ]
     },
     "execution_count": 33,
     "metadata": {},
     "output_type": "execute_result"
    }
   ],
   "source": [
    "X_b.T.shape"
   ]
  },
  {
   "cell_type": "code",
   "execution_count": 34,
   "id": "d7330222",
   "metadata": {},
   "outputs": [
    {
     "data": {
      "text/plain": [
       "array([[4.21509616],\n",
       "       [2.77011339]])"
      ]
     },
     "execution_count": 34,
     "metadata": {},
     "output_type": "execute_result"
    }
   ],
   "source": [
    "theta_best = np.linalg.inv(X_b.T @ X_b) @ X_b.T @ y\n",
    "theta_best"
   ]
  },
  {
   "cell_type": "code",
   "execution_count": 39,
   "id": "c02066ac",
   "metadata": {},
   "outputs": [
    {
     "data": {
      "text/plain": [
       "array([[4.21509616],\n",
       "       [9.75532293]])"
      ]
     },
     "execution_count": 39,
     "metadata": {},
     "output_type": "execute_result"
    }
   ],
   "source": [
    "X_new = np.array([[0], [2]])\n",
    "X_new_b = add_dummy_feature(X_new)  # add x0 = 1 to each instance\n",
    "y_predict = X_new_b @ theta_best\n",
    "y_predict"
   ]
  },
  {
   "cell_type": "code",
   "execution_count": 37,
   "id": "e518b004",
   "metadata": {},
   "outputs": [
    {
     "data": {
      "image/png": "[encoded data removed]",
      "text/plain": [
       "<Figure size 600x400 with 1 Axes>"
      ]
     },
     "metadata": {},
     "output_type": "display_data"
    }
   ],
   "source": [
    "import matplotlib.pyplot as plt\n",
    "\n",
    "plt.figure(figsize=(6, 4))  # extra code – not needed, just formatting\n",
    "plt.plot(X_new, y_predict, \"r-\", label=\"Predictions\")\n",
    "plt.plot(X, y, \"b.\")\n",
    "\n",
    "# extra code – beautifies and saves Figure 4–2\n",
    "plt.xlabel(\"$x_1$\")\n",
    "plt.ylabel(\"$y$\", rotation=0)\n",
    "plt.axis([0, 2, 0, 15])\n",
    "plt.grid()\n",
    "plt.legend(loc=\"upper left\")\n",
    "\n",
    "plt.show()"
   ]
  },
  {
   "cell_type": "code",
   "execution_count": 44,
   "id": "50108ec1",
   "metadata": {},
   "outputs": [
    {
     "data": {
      "text/plain": [
       "(array([4.21509616]), array([[2.77011339]]))"
      ]
     },
     "execution_count": 44,
     "metadata": {},
     "output_type": "execute_result"
    }
   ],
   "source": [
    "from sklearn.linear_model import LinearRegression\n",
    "\n",
    "lin_reg = LinearRegression()\n",
    "lin_reg.fit(X, y)\n",
    "lin_reg.intercept_, lin_reg.coef_"
   ]
  },
  {
   "cell_type": "code",
   "execution_count": 47,
   "id": "f50de5f8",
   "metadata": {},
   "outputs": [
    {
     "data": {
      "text/plain": [
       "array([[4.21509616],\n",
       "       [9.75532293]])"
      ]
     },
     "execution_count": 47,
     "metadata": {},
     "output_type": "execute_result"
    }
   ],
   "source": [
    "lin_reg.predict(X_new)"
   ]
  },
  {
   "cell_type": "code",
   "execution_count": 51,
   "id": "c1f65f60",
   "metadata": {},
   "outputs": [
    {
     "data": {
      "text/plain": [
       "array([[15.2955497 ],\n",
       "       [12.52543632]])"
      ]
     },
     "execution_count": 51,
     "metadata": {},
     "output_type": "execute_result"
    }
   ],
   "source": [
    "lin_reg.predict(np.array([[4], [3]]))"
   ]
  }
 ],
 "metadata": {
  "kernelspec": {
   "display_name": "Python 3 (ipykernel)",
   "language": "python",
   "name": "python3"
  },
  "language_info": {
   "codemirror_mode": {
    "name": "ipython",
    "version": 3
   },
   "file_extension": ".py",
   "mimetype": "text/x-python",
   "name": "python",
   "nbconvert_exporter": "python",
   "pygments_lexer": "ipython3",
   "version": "3.10.9"
  }
 },
 "nbformat": 4,
 "nbformat_minor": 5
}
