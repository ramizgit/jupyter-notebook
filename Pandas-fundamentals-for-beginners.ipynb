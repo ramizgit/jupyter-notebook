{
 "cells": [
  {
   "cell_type": "markdown",
   "id": "7a60be35",
   "metadata": {},
   "source": [
    "### Import necessary libraries"
   ]
  },
  {
   "cell_type": "code",
   "execution_count": 2,
   "id": "8dc8378f",
   "metadata": {},
   "outputs": [],
   "source": [
    "import pandas as pd\n",
    "import numpy as np\n",
    "import matplotlib.pyplot as plt"
   ]
  },
  {
   "cell_type": "markdown",
   "id": "33a5c459",
   "metadata": {},
   "source": [
    "### Read below csv file to create a dataframe\n",
    "name,age,skills,experience,salary  \n",
    "alice,25,java,7,150000  \n",
    "laker,20,python,1,100000  \n",
    "david,45,java,25,250000  \n",
    "patrick,40,golang,20,225000  \n",
    "ali,50,golang,30,300000  \n",
    "paul,30,python,10,200000  "
   ]
  },
  {
   "cell_type": "code",
   "execution_count": 5,
   "id": "87a598ea",
   "metadata": {},
   "outputs": [
    {
     "data": {
      "text/html": [
       "<div>\n",
       "<style scoped>\n",
       "    .dataframe tbody tr th:only-of-type {\n",
       "        vertical-align: middle;\n",
       "    }\n",
       "\n",
       "    .dataframe tbody tr th {\n",
       "        vertical-align: top;\n",
       "    }\n",
       "\n",
       "    .dataframe thead th {\n",
       "        text-align: right;\n",
       "    }\n",
       "</style>\n",
       "<table border=\"1\" class=\"dataframe\">\n",
       "  <thead>\n",
       "    <tr style=\"text-align: right;\">\n",
       "      <th></th>\n",
       "      <th>name</th>\n",
       "      <th>age</th>\n",
       "      <th>skills</th>\n",
       "      <th>experience</th>\n",
       "      <th>salary</th>\n",
       "    </tr>\n",
       "  </thead>\n",
       "  <tbody>\n",
       "    <tr>\n",
       "      <th>0</th>\n",
       "      <td>alice</td>\n",
       "      <td>25</td>\n",
       "      <td>java</td>\n",
       "      <td>7</td>\n",
       "      <td>150000</td>\n",
       "    </tr>\n",
       "    <tr>\n",
       "      <th>1</th>\n",
       "      <td>laker</td>\n",
       "      <td>20</td>\n",
       "      <td>python</td>\n",
       "      <td>1</td>\n",
       "      <td>100000</td>\n",
       "    </tr>\n",
       "    <tr>\n",
       "      <th>2</th>\n",
       "      <td>david</td>\n",
       "      <td>45</td>\n",
       "      <td>java</td>\n",
       "      <td>25</td>\n",
       "      <td>250000</td>\n",
       "    </tr>\n",
       "    <tr>\n",
       "      <th>3</th>\n",
       "      <td>patrick</td>\n",
       "      <td>40</td>\n",
       "      <td>golang</td>\n",
       "      <td>20</td>\n",
       "      <td>225000</td>\n",
       "    </tr>\n",
       "    <tr>\n",
       "      <th>4</th>\n",
       "      <td>ali</td>\n",
       "      <td>50</td>\n",
       "      <td>golang</td>\n",
       "      <td>30</td>\n",
       "      <td>300000</td>\n",
       "    </tr>\n",
       "    <tr>\n",
       "      <th>5</th>\n",
       "      <td>paul</td>\n",
       "      <td>30</td>\n",
       "      <td>python</td>\n",
       "      <td>10</td>\n",
       "      <td>200000</td>\n",
       "    </tr>\n",
       "  </tbody>\n",
       "</table>\n",
       "</div>"
      ],
      "text/plain": [
       "      name  age  skills  experience  salary\n",
       "0    alice   25    java           7  150000\n",
       "1    laker   20  python           1  100000\n",
       "2    david   45    java          25  250000\n",
       "3  patrick   40  golang          20  225000\n",
       "4      ali   50  golang          30  300000\n",
       "5     paul   30  python          10  200000"
      ]
     },
     "execution_count": 5,
     "metadata": {},
     "output_type": "execute_result"
    }
   ],
   "source": [
    "df = pd.read_csv(\"employee.csv\")\n",
    "df"
   ]
  },
  {
   "cell_type": "markdown",
   "id": "af6fb254",
   "metadata": {},
   "source": [
    "### Project one or more columns"
   ]
  },
  {
   "cell_type": "code",
   "execution_count": 7,
   "id": "cacee17f",
   "metadata": {},
   "outputs": [
    {
     "data": {
      "text/html": [
       "<div>\n",
       "<style scoped>\n",
       "    .dataframe tbody tr th:only-of-type {\n",
       "        vertical-align: middle;\n",
       "    }\n",
       "\n",
       "    .dataframe tbody tr th {\n",
       "        vertical-align: top;\n",
       "    }\n",
       "\n",
       "    .dataframe thead th {\n",
       "        text-align: right;\n",
       "    }\n",
       "</style>\n",
       "<table border=\"1\" class=\"dataframe\">\n",
       "  <thead>\n",
       "    <tr style=\"text-align: right;\">\n",
       "      <th></th>\n",
       "      <th>name</th>\n",
       "      <th>age</th>\n",
       "    </tr>\n",
       "  </thead>\n",
       "  <tbody>\n",
       "    <tr>\n",
       "      <th>0</th>\n",
       "      <td>alice</td>\n",
       "      <td>25</td>\n",
       "    </tr>\n",
       "    <tr>\n",
       "      <th>1</th>\n",
       "      <td>laker</td>\n",
       "      <td>20</td>\n",
       "    </tr>\n",
       "    <tr>\n",
       "      <th>2</th>\n",
       "      <td>david</td>\n",
       "      <td>45</td>\n",
       "    </tr>\n",
       "    <tr>\n",
       "      <th>3</th>\n",
       "      <td>patrick</td>\n",
       "      <td>40</td>\n",
       "    </tr>\n",
       "    <tr>\n",
       "      <th>4</th>\n",
       "      <td>ali</td>\n",
       "      <td>50</td>\n",
       "    </tr>\n",
       "    <tr>\n",
       "      <th>5</th>\n",
       "      <td>paul</td>\n",
       "      <td>30</td>\n",
       "    </tr>\n",
       "  </tbody>\n",
       "</table>\n",
       "</div>"
      ],
      "text/plain": [
       "      name  age\n",
       "0    alice   25\n",
       "1    laker   20\n",
       "2    david   45\n",
       "3  patrick   40\n",
       "4      ali   50\n",
       "5     paul   30"
      ]
     },
     "execution_count": 7,
     "metadata": {},
     "output_type": "execute_result"
    }
   ],
   "source": [
    "df[[\"name\", \"age\"]]"
   ]
  },
  {
   "cell_type": "markdown",
   "id": "ece05636",
   "metadata": {},
   "source": [
    "### Select one or more rows by index"
   ]
  },
  {
   "cell_type": "code",
   "execution_count": 15,
   "id": "6d22423d",
   "metadata": {},
   "outputs": [
    {
     "data": {
      "text/html": [
       "<div>\n",
       "<style scoped>\n",
       "    .dataframe tbody tr th:only-of-type {\n",
       "        vertical-align: middle;\n",
       "    }\n",
       "\n",
       "    .dataframe tbody tr th {\n",
       "        vertical-align: top;\n",
       "    }\n",
       "\n",
       "    .dataframe thead th {\n",
       "        text-align: right;\n",
       "    }\n",
       "</style>\n",
       "<table border=\"1\" class=\"dataframe\">\n",
       "  <thead>\n",
       "    <tr style=\"text-align: right;\">\n",
       "      <th></th>\n",
       "      <th>name</th>\n",
       "      <th>age</th>\n",
       "      <th>skills</th>\n",
       "      <th>experience</th>\n",
       "      <th>salary</th>\n",
       "    </tr>\n",
       "  </thead>\n",
       "  <tbody>\n",
       "    <tr>\n",
       "      <th>0</th>\n",
       "      <td>alice</td>\n",
       "      <td>25</td>\n",
       "      <td>java</td>\n",
       "      <td>7</td>\n",
       "      <td>150000</td>\n",
       "    </tr>\n",
       "    <tr>\n",
       "      <th>1</th>\n",
       "      <td>laker</td>\n",
       "      <td>20</td>\n",
       "      <td>python</td>\n",
       "      <td>1</td>\n",
       "      <td>100000</td>\n",
       "    </tr>\n",
       "    <tr>\n",
       "      <th>2</th>\n",
       "      <td>david</td>\n",
       "      <td>45</td>\n",
       "      <td>java</td>\n",
       "      <td>25</td>\n",
       "      <td>250000</td>\n",
       "    </tr>\n",
       "  </tbody>\n",
       "</table>\n",
       "</div>"
      ],
      "text/plain": [
       "    name  age  skills  experience  salary\n",
       "0  alice   25    java           7  150000\n",
       "1  laker   20  python           1  100000\n",
       "2  david   45    java          25  250000"
      ]
     },
     "execution_count": 15,
     "metadata": {},
     "output_type": "execute_result"
    }
   ],
   "source": [
    "df.iloc[0:3]"
   ]
  },
  {
   "cell_type": "markdown",
   "id": "3c5528ea",
   "metadata": {},
   "source": [
    "### Add a new column at the end"
   ]
  },
  {
   "cell_type": "code",
   "execution_count": 18,
   "id": "811b158e",
   "metadata": {},
   "outputs": [
    {
     "data": {
      "text/html": [
       "<div>\n",
       "<style scoped>\n",
       "    .dataframe tbody tr th:only-of-type {\n",
       "        vertical-align: middle;\n",
       "    }\n",
       "\n",
       "    .dataframe tbody tr th {\n",
       "        vertical-align: top;\n",
       "    }\n",
       "\n",
       "    .dataframe thead th {\n",
       "        text-align: right;\n",
       "    }\n",
       "</style>\n",
       "<table border=\"1\" class=\"dataframe\">\n",
       "  <thead>\n",
       "    <tr style=\"text-align: right;\">\n",
       "      <th></th>\n",
       "      <th>name</th>\n",
       "      <th>age</th>\n",
       "      <th>skills</th>\n",
       "      <th>experience</th>\n",
       "      <th>salary</th>\n",
       "      <th>isWellExperienced</th>\n",
       "    </tr>\n",
       "  </thead>\n",
       "  <tbody>\n",
       "    <tr>\n",
       "      <th>0</th>\n",
       "      <td>alice</td>\n",
       "      <td>25</td>\n",
       "      <td>java</td>\n",
       "      <td>7</td>\n",
       "      <td>150000</td>\n",
       "      <td>False</td>\n",
       "    </tr>\n",
       "    <tr>\n",
       "      <th>1</th>\n",
       "      <td>laker</td>\n",
       "      <td>20</td>\n",
       "      <td>python</td>\n",
       "      <td>1</td>\n",
       "      <td>100000</td>\n",
       "      <td>False</td>\n",
       "    </tr>\n",
       "    <tr>\n",
       "      <th>2</th>\n",
       "      <td>david</td>\n",
       "      <td>45</td>\n",
       "      <td>java</td>\n",
       "      <td>25</td>\n",
       "      <td>250000</td>\n",
       "      <td>True</td>\n",
       "    </tr>\n",
       "    <tr>\n",
       "      <th>3</th>\n",
       "      <td>patrick</td>\n",
       "      <td>40</td>\n",
       "      <td>golang</td>\n",
       "      <td>20</td>\n",
       "      <td>225000</td>\n",
       "      <td>True</td>\n",
       "    </tr>\n",
       "    <tr>\n",
       "      <th>4</th>\n",
       "      <td>ali</td>\n",
       "      <td>50</td>\n",
       "      <td>golang</td>\n",
       "      <td>30</td>\n",
       "      <td>300000</td>\n",
       "      <td>True</td>\n",
       "    </tr>\n",
       "    <tr>\n",
       "      <th>5</th>\n",
       "      <td>paul</td>\n",
       "      <td>30</td>\n",
       "      <td>python</td>\n",
       "      <td>10</td>\n",
       "      <td>200000</td>\n",
       "      <td>True</td>\n",
       "    </tr>\n",
       "  </tbody>\n",
       "</table>\n",
       "</div>"
      ],
      "text/plain": [
       "      name  age  skills  experience  salary  isWellExperienced\n",
       "0    alice   25    java           7  150000              False\n",
       "1    laker   20  python           1  100000              False\n",
       "2    david   45    java          25  250000               True\n",
       "3  patrick   40  golang          20  225000               True\n",
       "4      ali   50  golang          30  300000               True\n",
       "5     paul   30  python          10  200000               True"
      ]
     },
     "execution_count": 18,
     "metadata": {},
     "output_type": "execute_result"
    }
   ],
   "source": [
    "df[\"isWellExperienced\"] = df[\"experience\"] >=10\n",
    "df"
   ]
  },
  {
   "cell_type": "markdown",
   "id": "47f51ca0",
   "metadata": {},
   "source": [
    "### Delete a column"
   ]
  },
  {
   "cell_type": "code",
   "execution_count": 20,
   "id": "da10c3b5",
   "metadata": {},
   "outputs": [
    {
     "data": {
      "text/html": [
       "<div>\n",
       "<style scoped>\n",
       "    .dataframe tbody tr th:only-of-type {\n",
       "        vertical-align: middle;\n",
       "    }\n",
       "\n",
       "    .dataframe tbody tr th {\n",
       "        vertical-align: top;\n",
       "    }\n",
       "\n",
       "    .dataframe thead th {\n",
       "        text-align: right;\n",
       "    }\n",
       "</style>\n",
       "<table border=\"1\" class=\"dataframe\">\n",
       "  <thead>\n",
       "    <tr style=\"text-align: right;\">\n",
       "      <th></th>\n",
       "      <th>name</th>\n",
       "      <th>age</th>\n",
       "      <th>skills</th>\n",
       "      <th>experience</th>\n",
       "      <th>salary</th>\n",
       "    </tr>\n",
       "  </thead>\n",
       "  <tbody>\n",
       "    <tr>\n",
       "      <th>0</th>\n",
       "      <td>alice</td>\n",
       "      <td>25</td>\n",
       "      <td>java</td>\n",
       "      <td>7</td>\n",
       "      <td>150000</td>\n",
       "    </tr>\n",
       "    <tr>\n",
       "      <th>1</th>\n",
       "      <td>laker</td>\n",
       "      <td>20</td>\n",
       "      <td>python</td>\n",
       "      <td>1</td>\n",
       "      <td>100000</td>\n",
       "    </tr>\n",
       "    <tr>\n",
       "      <th>2</th>\n",
       "      <td>david</td>\n",
       "      <td>45</td>\n",
       "      <td>java</td>\n",
       "      <td>25</td>\n",
       "      <td>250000</td>\n",
       "    </tr>\n",
       "    <tr>\n",
       "      <th>3</th>\n",
       "      <td>patrick</td>\n",
       "      <td>40</td>\n",
       "      <td>golang</td>\n",
       "      <td>20</td>\n",
       "      <td>225000</td>\n",
       "    </tr>\n",
       "    <tr>\n",
       "      <th>4</th>\n",
       "      <td>ali</td>\n",
       "      <td>50</td>\n",
       "      <td>golang</td>\n",
       "      <td>30</td>\n",
       "      <td>300000</td>\n",
       "    </tr>\n",
       "    <tr>\n",
       "      <th>5</th>\n",
       "      <td>paul</td>\n",
       "      <td>30</td>\n",
       "      <td>python</td>\n",
       "      <td>10</td>\n",
       "      <td>200000</td>\n",
       "    </tr>\n",
       "  </tbody>\n",
       "</table>\n",
       "</div>"
      ],
      "text/plain": [
       "      name  age  skills  experience  salary\n",
       "0    alice   25    java           7  150000\n",
       "1    laker   20  python           1  100000\n",
       "2    david   45    java          25  250000\n",
       "3  patrick   40  golang          20  225000\n",
       "4      ali   50  golang          30  300000\n",
       "5     paul   30  python          10  200000"
      ]
     },
     "execution_count": 20,
     "metadata": {},
     "output_type": "execute_result"
    }
   ],
   "source": [
    "# either of below commands will do same\n",
    "df.pop(\"isWellExperienced\")\n",
    "#del df[\"isWellExperienced\"]\n",
    "df"
   ]
  },
  {
   "cell_type": "markdown",
   "id": "f666e1f2",
   "metadata": {},
   "source": [
    "### Rename a column"
   ]
  },
  {
   "cell_type": "code",
   "execution_count": 22,
   "id": "47f9d3b0",
   "metadata": {},
   "outputs": [
    {
     "data": {
      "text/html": [
       "<div>\n",
       "<style scoped>\n",
       "    .dataframe tbody tr th:only-of-type {\n",
       "        vertical-align: middle;\n",
       "    }\n",
       "\n",
       "    .dataframe tbody tr th {\n",
       "        vertical-align: top;\n",
       "    }\n",
       "\n",
       "    .dataframe thead th {\n",
       "        text-align: right;\n",
       "    }\n",
       "</style>\n",
       "<table border=\"1\" class=\"dataframe\">\n",
       "  <thead>\n",
       "    <tr style=\"text-align: right;\">\n",
       "      <th></th>\n",
       "      <th>name</th>\n",
       "      <th>age</th>\n",
       "      <th>skills</th>\n",
       "      <th>experience</th>\n",
       "      <th>salary_in_usd</th>\n",
       "    </tr>\n",
       "  </thead>\n",
       "  <tbody>\n",
       "    <tr>\n",
       "      <th>0</th>\n",
       "      <td>alice</td>\n",
       "      <td>25</td>\n",
       "      <td>java</td>\n",
       "      <td>7</td>\n",
       "      <td>150000</td>\n",
       "    </tr>\n",
       "    <tr>\n",
       "      <th>1</th>\n",
       "      <td>laker</td>\n",
       "      <td>20</td>\n",
       "      <td>python</td>\n",
       "      <td>1</td>\n",
       "      <td>100000</td>\n",
       "    </tr>\n",
       "    <tr>\n",
       "      <th>2</th>\n",
       "      <td>david</td>\n",
       "      <td>45</td>\n",
       "      <td>java</td>\n",
       "      <td>25</td>\n",
       "      <td>250000</td>\n",
       "    </tr>\n",
       "    <tr>\n",
       "      <th>3</th>\n",
       "      <td>patrick</td>\n",
       "      <td>40</td>\n",
       "      <td>golang</td>\n",
       "      <td>20</td>\n",
       "      <td>225000</td>\n",
       "    </tr>\n",
       "    <tr>\n",
       "      <th>4</th>\n",
       "      <td>ali</td>\n",
       "      <td>50</td>\n",
       "      <td>golang</td>\n",
       "      <td>30</td>\n",
       "      <td>300000</td>\n",
       "    </tr>\n",
       "    <tr>\n",
       "      <th>5</th>\n",
       "      <td>paul</td>\n",
       "      <td>30</td>\n",
       "      <td>python</td>\n",
       "      <td>10</td>\n",
       "      <td>200000</td>\n",
       "    </tr>\n",
       "  </tbody>\n",
       "</table>\n",
       "</div>"
      ],
      "text/plain": [
       "      name  age  skills  experience  salary_in_usd\n",
       "0    alice   25    java           7         150000\n",
       "1    laker   20  python           1         100000\n",
       "2    david   45    java          25         250000\n",
       "3  patrick   40  golang          20         225000\n",
       "4      ali   50  golang          30         300000\n",
       "5     paul   30  python          10         200000"
      ]
     },
     "execution_count": 22,
     "metadata": {},
     "output_type": "execute_result"
    }
   ],
   "source": [
    "df = df.rename(columns={\"salary\": \"salary_in_usd\"})\n",
    "df"
   ]
  },
  {
   "cell_type": "markdown",
   "id": "58d37d5c",
   "metadata": {},
   "source": [
    "### Query dataframe"
   ]
  },
  {
   "cell_type": "code",
   "execution_count": 27,
   "id": "46c81579",
   "metadata": {},
   "outputs": [
    {
     "name": "stdout",
     "output_type": "stream",
     "text": [
      "      name  age  skills  experience  salary_in_usd\n",
      "2    david   45    java          25         250000\n",
      "3  patrick   40  golang          20         225000\n",
      "4      ali   50  golang          30         300000\n",
      "5     paul   30  python          10         200000\n",
      "    name  age  skills  experience  salary_in_usd\n",
      "0  alice   25    java           7         150000\n",
      "1  laker   20  python           1         100000\n",
      "2  david   45    java          25         250000\n",
      "5   paul   30  python          10         200000\n",
      "      name  age  skills  experience  salary_in_usd\n",
      "3  patrick   40  golang          20         225000\n",
      "4      ali   50  golang          30         300000\n"
     ]
    }
   ],
   "source": [
    "print(df.query(\"experience >= 10\"))\n",
    "print(df.query(\"skills in ['java','python']\"))\n",
    "print(df.query(\"skills == 'golang'\"))"
   ]
  },
  {
   "cell_type": "markdown",
   "id": "29582f8f",
   "metadata": {},
   "source": [
    "### Aggregate functions on a column"
   ]
  },
  {
   "cell_type": "code",
   "execution_count": 31,
   "id": "9842b880",
   "metadata": {},
   "outputs": [
    {
     "name": "stdout",
     "output_type": "stream",
     "text": [
      "100000\n",
      "300000\n",
      "1225000\n"
     ]
    }
   ],
   "source": [
    "print(df[\"salary_in_usd\"].min())\n",
    "print(df[\"salary_in_usd\"].max())\n",
    "print(df[\"salary_in_usd\"].sum())"
   ]
  },
  {
   "cell_type": "markdown",
   "id": "847ee233",
   "metadata": {},
   "source": [
    "### Sorting on a given column"
   ]
  },
  {
   "cell_type": "code",
   "execution_count": 34,
   "id": "810da08e",
   "metadata": {},
   "outputs": [
    {
     "data": {
      "text/html": [
       "<div>\n",
       "<style scoped>\n",
       "    .dataframe tbody tr th:only-of-type {\n",
       "        vertical-align: middle;\n",
       "    }\n",
       "\n",
       "    .dataframe tbody tr th {\n",
       "        vertical-align: top;\n",
       "    }\n",
       "\n",
       "    .dataframe thead th {\n",
       "        text-align: right;\n",
       "    }\n",
       "</style>\n",
       "<table border=\"1\" class=\"dataframe\">\n",
       "  <thead>\n",
       "    <tr style=\"text-align: right;\">\n",
       "      <th></th>\n",
       "      <th>name</th>\n",
       "      <th>age</th>\n",
       "      <th>skills</th>\n",
       "      <th>experience</th>\n",
       "      <th>salary_in_usd</th>\n",
       "    </tr>\n",
       "  </thead>\n",
       "  <tbody>\n",
       "    <tr>\n",
       "      <th>1</th>\n",
       "      <td>laker</td>\n",
       "      <td>20</td>\n",
       "      <td>python</td>\n",
       "      <td>1</td>\n",
       "      <td>100000</td>\n",
       "    </tr>\n",
       "    <tr>\n",
       "      <th>0</th>\n",
       "      <td>alice</td>\n",
       "      <td>25</td>\n",
       "      <td>java</td>\n",
       "      <td>7</td>\n",
       "      <td>150000</td>\n",
       "    </tr>\n",
       "    <tr>\n",
       "      <th>5</th>\n",
       "      <td>paul</td>\n",
       "      <td>30</td>\n",
       "      <td>python</td>\n",
       "      <td>10</td>\n",
       "      <td>200000</td>\n",
       "    </tr>\n",
       "    <tr>\n",
       "      <th>3</th>\n",
       "      <td>patrick</td>\n",
       "      <td>40</td>\n",
       "      <td>golang</td>\n",
       "      <td>20</td>\n",
       "      <td>225000</td>\n",
       "    </tr>\n",
       "    <tr>\n",
       "      <th>2</th>\n",
       "      <td>david</td>\n",
       "      <td>45</td>\n",
       "      <td>java</td>\n",
       "      <td>25</td>\n",
       "      <td>250000</td>\n",
       "    </tr>\n",
       "    <tr>\n",
       "      <th>4</th>\n",
       "      <td>ali</td>\n",
       "      <td>50</td>\n",
       "      <td>golang</td>\n",
       "      <td>30</td>\n",
       "      <td>300000</td>\n",
       "    </tr>\n",
       "  </tbody>\n",
       "</table>\n",
       "</div>"
      ],
      "text/plain": [
       "      name  age  skills  experience  salary_in_usd\n",
       "1    laker   20  python           1         100000\n",
       "0    alice   25    java           7         150000\n",
       "5     paul   30  python          10         200000\n",
       "3  patrick   40  golang          20         225000\n",
       "2    david   45    java          25         250000\n",
       "4      ali   50  golang          30         300000"
      ]
     },
     "execution_count": 34,
     "metadata": {},
     "output_type": "execute_result"
    }
   ],
   "source": [
    "df_sorted = df.sort_values(\"age\")\n",
    "df_sorted"
   ]
  },
  {
   "cell_type": "markdown",
   "id": "a70bbcbe",
   "metadata": {},
   "source": [
    "### Gouping via pivot"
   ]
  },
  {
   "cell_type": "code",
   "execution_count": 37,
   "id": "4f2eeb51",
   "metadata": {},
   "outputs": [
    {
     "data": {
      "text/html": [
       "<div>\n",
       "<style scoped>\n",
       "    .dataframe tbody tr th:only-of-type {\n",
       "        vertical-align: middle;\n",
       "    }\n",
       "\n",
       "    .dataframe tbody tr th {\n",
       "        vertical-align: top;\n",
       "    }\n",
       "\n",
       "    .dataframe thead th {\n",
       "        text-align: right;\n",
       "    }\n",
       "</style>\n",
       "<table border=\"1\" class=\"dataframe\">\n",
       "  <thead>\n",
       "    <tr style=\"text-align: right;\">\n",
       "      <th></th>\n",
       "      <th>salary_in_usd</th>\n",
       "    </tr>\n",
       "    <tr>\n",
       "      <th>skills</th>\n",
       "      <th></th>\n",
       "    </tr>\n",
       "  </thead>\n",
       "  <tbody>\n",
       "    <tr>\n",
       "      <th>golang</th>\n",
       "      <td>262500</td>\n",
       "    </tr>\n",
       "    <tr>\n",
       "      <th>java</th>\n",
       "      <td>200000</td>\n",
       "    </tr>\n",
       "    <tr>\n",
       "      <th>python</th>\n",
       "      <td>150000</td>\n",
       "    </tr>\n",
       "  </tbody>\n",
       "</table>\n",
       "</div>"
      ],
      "text/plain": [
       "        salary_in_usd\n",
       "skills               \n",
       "golang         262500\n",
       "java           200000\n",
       "python         150000"
      ]
     },
     "execution_count": 37,
     "metadata": {},
     "output_type": "execute_result"
    }
   ],
   "source": [
    "pd.pivot_table(df, index=\"skills\", values=[\"salary_in_usd\"])"
   ]
  },
  {
   "cell_type": "markdown",
   "id": "5172d4d0",
   "metadata": {},
   "source": [
    "### Plot dataframe"
   ]
  },
  {
   "cell_type": "code",
   "execution_count": 40,
   "id": "7c196907",
   "metadata": {},
   "outputs": [
    {
     "data": {
      "image/png": "[encoded data removed]",
      "text/plain": [
       "<Figure size 640x480 with 1 Axes>"
      ]
     },
     "metadata": {},
     "output_type": "display_data"
    }
   ],
   "source": [
    "df.plot(kind=\"line\", x=\"experience\", y=\"salary_in_usd\")\n",
    "plt.show()"
   ]
  }
 ],
 "metadata": {
  "kernelspec": {
   "display_name": "Python 3 (ipykernel)",
   "language": "python",
   "name": "python3"
  },
  "language_info": {
   "codemirror_mode": {
    "name": "ipython",
    "version": 3
   },
   "file_extension": ".py",
   "mimetype": "text/x-python",
   "name": "python",
   "nbconvert_exporter": "python",
   "pygments_lexer": "ipython3",
   "version": "3.10.9"
  }
 },
 "nbformat": 4,
 "nbformat_minor": 5
}
